{
 "cells": [
  {
   "cell_type": "markdown",
   "metadata": {
    "slideshow": {
     "slide_type": "slide"
    }
   },
   "source": [
    "# Introduction to the finite element method  <a class=\"tocSkip\">\n",
    "\n",
    "\n",
    "## Lecture 1: Some preliminaries  <a class=\"tocSkip\">"
   ]
  },
  {
   "cell_type": "markdown",
   "metadata": {},
   "source": [
    "## Lecture Plan <span class=\"tocSkip\">\n",
    "\n",
    "### This lecture:  <span class=\"tocSkip\">\n",
    "* Software and installation\n",
    "* Quick-start guide - basic examples and tips for Matlab users\n",
    "* Further Python basics - all the Python skills you'll need throughout this workshop\n",
    "* Initial FEM thinking - approximating functions\n",
    "    \n",
    "\n",
    "### The following lectures:  <span class=\"tocSkip\">\n",
    "2. Implementing the finite element method (in 1d)\n",
    "3. Solving more complicated problems in higher dimensions using Firedrake\n",
    "4. Ocean modelling with Thetis"
   ]
  },
  {
   "cell_type": "markdown",
   "metadata": {
    "toc": true
   },
   "source": [
    "<h1>Table of Contents<span class=\"tocSkip\"></span></h1>\n",
    "<div class=\"toc\"><ul class=\"toc-item\"><li><span><a href=\"#Software-and-installation\" data-toc-modified-id=\"Software-and-installation-1\"><span class=\"toc-item-num\">1&nbsp;&nbsp;</span>Software and installation</a></span><ul class=\"toc-item\"><li><span><a href=\"#Notes-on-using-the-cloud-service-during-the-course\" data-toc-modified-id=\"Notes-on-using-the-cloud-service-during-the-course-1.1\"><span class=\"toc-item-num\">1.1&nbsp;&nbsp;</span>Notes on using the cloud service during the course</a></span></li></ul></li><li><span><a href=\"#Introduction-to-programming-in-Python\" data-toc-modified-id=\"Introduction-to-programming-in-Python-2\"><span class=\"toc-item-num\">2&nbsp;&nbsp;</span>Introduction to programming in Python</a></span><ul class=\"toc-item\"><li><span><a href=\"#Local-installation-of-Python,-NumPy,-Matplotlib,-etc.\" data-toc-modified-id=\"Local-installation-of-Python,-NumPy,-Matplotlib,-etc.-2.1\"><span class=\"toc-item-num\">2.1&nbsp;&nbsp;</span>Local installation of Python, NumPy, Matplotlib, etc.</a></span></li><li><span><a href=\"#Local-installation-of-Firedrake-and-Thetis\" data-toc-modified-id=\"Local-installation-of-Firedrake-and-Thetis-2.2\"><span class=\"toc-item-num\">2.2&nbsp;&nbsp;</span>Local installation of Firedrake and Thetis</a></span></li><li><span><a href=\"#Alternative:-run-a-container-locally\" data-toc-modified-id=\"Alternative:-run-a-container-locally-2.3\"><span class=\"toc-item-num\">2.3&nbsp;&nbsp;</span>Alternative: run a container locally</a></span></li></ul></li><li><span><a href=\"#Quick-start-guide\" data-toc-modified-id=\"Quick-start-guide-3\"><span class=\"toc-item-num\">3&nbsp;&nbsp;</span>Quick-start guide</a></span><ul class=\"toc-item\"><li><span><a href=\"#Getting-started-with-Python-and-notebooks\" data-toc-modified-id=\"Getting-started-with-Python-and-notebooks-3.1\"><span class=\"toc-item-num\">3.1&nbsp;&nbsp;</span>Getting started with Python and notebooks</a></span></li><li><span><a href=\"#Some-quick-examples-of-Python-usage\" data-toc-modified-id=\"Some-quick-examples-of-Python-usage-3.2\"><span class=\"toc-item-num\">3.2&nbsp;&nbsp;</span>Some quick examples of Python usage</a></span></li><li><span><a href=\"#For-arrays-and-matrices,-use-NumPy\" data-toc-modified-id=\"For-arrays-and-matrices,-use-NumPy-3.3\"><span class=\"toc-item-num\">3.3&nbsp;&nbsp;</span>For arrays and matrices, use NumPy</a></span></li><li><span><a href=\"#NumPy-tips-for-Matlab-users\" data-toc-modified-id=\"NumPy-tips-for-Matlab-users-3.4\"><span class=\"toc-item-num\">3.4&nbsp;&nbsp;</span>NumPy tips for Matlab users</a></span></li></ul></li><li><span><a href=\"#Further-Python-basics\" data-toc-modified-id=\"Further-Python-basics-4\"><span class=\"toc-item-num\">4&nbsp;&nbsp;</span>Further Python basics</a></span><ul class=\"toc-item\"><li><span><a href=\"#Formatted-printing-style\" data-toc-modified-id=\"Formatted-printing-style-4.1\"><span class=\"toc-item-num\">4.1&nbsp;&nbsp;</span>Formatted printing style</a></span></li><li><span><a href=\"#Boolean-expressions\" data-toc-modified-id=\"Boolean-expressions-4.2\"><span class=\"toc-item-num\">4.2&nbsp;&nbsp;</span>Boolean expressions</a></span></li><li><span><a href=\"#Loops\" data-toc-modified-id=\"Loops-4.3\"><span class=\"toc-item-num\">4.3&nbsp;&nbsp;</span>Loops</a></span></li><li><span><a href=\"#The-while-loop-(and-the-significance-of-indentation)\" data-toc-modified-id=\"The-while-loop-(and-the-significance-of-indentation)-4.4\"><span class=\"toc-item-num\">4.4&nbsp;&nbsp;</span>The while loop (and the significance of indentation)</a></span></li><li><span><a href=\"#Lists\" data-toc-modified-id=\"Lists-4.5\"><span class=\"toc-item-num\">4.5&nbsp;&nbsp;</span>Lists</a></span></li><li><span><a href=\"#For-loops\" data-toc-modified-id=\"For-loops-4.6\"><span class=\"toc-item-num\">4.6&nbsp;&nbsp;</span>For loops</a></span></li><li><span><a href=\"#List-comprehensions\" data-toc-modified-id=\"List-comprehensions-4.7\"><span class=\"toc-item-num\">4.7&nbsp;&nbsp;</span>List comprehensions</a></span></li><li><span><a href=\"#Changing-elements-in-a-list\" data-toc-modified-id=\"Changing-elements-in-a-list-4.8\"><span class=\"toc-item-num\">4.8&nbsp;&nbsp;</span>Changing elements in a list</a></span></li><li><span><a href=\"#Nested-lists:-list-of-lists\" data-toc-modified-id=\"Nested-lists:-list-of-lists-4.9\"><span class=\"toc-item-num\">4.9&nbsp;&nbsp;</span>Nested lists: list of lists</a></span></li><li><span><a href=\"#Tuples:-lists-that-cannot-be-changed\" data-toc-modified-id=\"Tuples:-lists-that-cannot-be-changed-4.10\"><span class=\"toc-item-num\">4.10&nbsp;&nbsp;</span>Tuples: lists that cannot be changed</a></span></li><li><span><a href=\"#The-if-construct\" data-toc-modified-id=\"The-if-construct-4.11\"><span class=\"toc-item-num\">4.11&nbsp;&nbsp;</span>The <em>if</em> construct</a></span></li><li><span><a href=\"#Vectors-and-arrays\" data-toc-modified-id=\"Vectors-and-arrays-4.12\"><span class=\"toc-item-num\">4.12&nbsp;&nbsp;</span>Vectors and arrays</a></span></li><li><span><a href=\"#When-and-where-to-use-NumPy-arrays\" data-toc-modified-id=\"When-and-where-to-use-NumPy-arrays-4.13\"><span class=\"toc-item-num\">4.13&nbsp;&nbsp;</span>When and where to use NumPy arrays</a></span></li><li><span><a href=\"#Vectorisation\" data-toc-modified-id=\"Vectorisation-4.14\"><span class=\"toc-item-num\">4.14&nbsp;&nbsp;</span>Vectorisation</a></span></li><li><span><a href=\"#Watch-out-for-references-vs.-copies-of-arrays!\" data-toc-modified-id=\"Watch-out-for-references-vs.-copies-of-arrays!-4.15\"><span class=\"toc-item-num\">4.15&nbsp;&nbsp;</span>Watch out for references vs. copies of arrays!</a></span></li><li><span><a href=\"#Generalised-array-indexing\" data-toc-modified-id=\"Generalised-array-indexing-4.16\"><span class=\"toc-item-num\">4.16&nbsp;&nbsp;</span>Generalised array indexing</a></span></li><li><span><a href=\"#2D-arrays\" data-toc-modified-id=\"2D-arrays-4.17\"><span class=\"toc-item-num\">4.17&nbsp;&nbsp;</span>2D arrays</a></span></li><li><span><a href=\"#Plotting-curves---the-basics\" data-toc-modified-id=\"Plotting-curves---the-basics-4.18\"><span class=\"toc-item-num\">4.18&nbsp;&nbsp;</span>Plotting curves - the basics</a></span></li><li><span><a href=\"#Multiple-curves-in-one-plot\" data-toc-modified-id=\"Multiple-curves-in-one-plot-4.19\"><span class=\"toc-item-num\">4.19&nbsp;&nbsp;</span>Multiple curves in one plot</a></span></li><li><span><a href=\"#Python-dictionaries\" data-toc-modified-id=\"Python-dictionaries-4.20\"><span class=\"toc-item-num\">4.20&nbsp;&nbsp;</span>Python dictionaries</a></span></li></ul></li><li><span><a href=\"#Introduction-to-the-finite-element-method\" data-toc-modified-id=\"Introduction-to-the-finite-element-method-5\"><span class=\"toc-item-num\">5&nbsp;&nbsp;</span>Introduction to the finite element method</a></span><ul class=\"toc-item\"><li><span><a href=\"#Introductory-comments\" data-toc-modified-id=\"Introductory-comments-5.1\"><span class=\"toc-item-num\">5.1&nbsp;&nbsp;</span>Introductory comments</a></span></li><li><span><a href=\"#Finite-elements-vs-volumes-vs-differences\" data-toc-modified-id=\"Finite-elements-vs-volumes-vs-differences-5.2\"><span class=\"toc-item-num\">5.2&nbsp;&nbsp;</span>Finite elements vs volumes vs differences</a></span></li><li><span><a href=\"#Approximating-a-function\" data-toc-modified-id=\"Approximating-a-function-5.3\"><span class=\"toc-item-num\">5.3&nbsp;&nbsp;</span>Approximating a function</a></span><ul class=\"toc-item\"><li><span><a href=\"#Piecewise-polynomials\" data-toc-modified-id=\"Piecewise-polynomials-5.3.1\"><span class=\"toc-item-num\">5.3.1&nbsp;&nbsp;</span>Piecewise-polynomials</a></span></li><li><span><a href=\"#Piecewise-polynomial-functions---examples\" data-toc-modified-id=\"Piecewise-polynomial-functions---examples-5.3.2\"><span class=\"toc-item-num\">5.3.2&nbsp;&nbsp;</span>Piecewise-polynomial functions - examples</a></span></li><li><span><a href=\"#An-example\" data-toc-modified-id=\"An-example-5.3.3\"><span class=\"toc-item-num\">5.3.3&nbsp;&nbsp;</span>An example</a></span></li><li><span><a href=\"#Interpolation-of-a-function-(Lagrange-polynomial---a-reminder)\" data-toc-modified-id=\"Interpolation-of-a-function-(Lagrange-polynomial---a-reminder)-5.3.4\"><span class=\"toc-item-num\">5.3.4&nbsp;&nbsp;</span>Interpolation of a function (Lagrange polynomial - a reminder)</a></span></li><li><span><a href=\"#Comments\" data-toc-modified-id=\"Comments-5.3.5\"><span class=\"toc-item-num\">5.3.5&nbsp;&nbsp;</span>Comments</a></span></li><li><span><a href=\"#Interpolation-errors--[$\\star$]\" data-toc-modified-id=\"Interpolation-errors--[$\\star$]-5.3.6\"><span class=\"toc-item-num\">5.3.6&nbsp;&nbsp;</span>Interpolation errors  [$\\star$]</a></span></li></ul></li><li><span><a href=\"#Basis-functions\" data-toc-modified-id=\"Basis-functions-5.4\"><span class=\"toc-item-num\">5.4&nbsp;&nbsp;</span>Basis functions</a></span><ul class=\"toc-item\"><li><span><a href=\"#Hat-functions\" data-toc-modified-id=\"Hat-functions-5.4.1\"><span class=\"toc-item-num\">5.4.1&nbsp;&nbsp;</span>Hat functions</a></span></li><li><span><a href=\"#Support-of-basis-functions\" data-toc-modified-id=\"Support-of-basis-functions-5.4.2\"><span class=\"toc-item-num\">5.4.2&nbsp;&nbsp;</span>Support of basis functions</a></span></li><li><span><a href=\"#Some-code-to-return-the-hat/basis-functions\" data-toc-modified-id=\"Some-code-to-return-the-hat/basis-functions-5.4.3\"><span class=\"toc-item-num\">5.4.3&nbsp;&nbsp;</span>Some code to return the hat/basis functions</a></span></li><li><span><a href=\"#Comments\" data-toc-modified-id=\"Comments-5.4.4\"><span class=\"toc-item-num\">5.4.4&nbsp;&nbsp;</span>Comments</a></span></li></ul></li></ul></li></ul></div>"
   ]
  },
  {
   "cell_type": "markdown",
   "metadata": {},
   "source": [
    "## Software and installation\n",
    "This is a very hands-on course, and we will be using python for everything. During the course you can use the cloud service at https://maldives-ic-fem.southindia.cloudapp.azure.com/ which will provide you with all the course material, and a computing environment to run the examples and exercises on. So during the course, all you need is a web browser. Below we will give you some pointers if you want to install the software that we have used on your own computer.\n",
    "\n",
    "### Notes on using the cloud service during the course\n",
    "The first time you point your webbrowser at https://maldives-ic-fem.southindia.cloudapp.azure.com/ (maybe you've already done so to open this notebook!) it will ask you for a login. Choose any username and password you like, but be sure to remember them as we cannot reset it.\n",
    "\n",
    "Once you are logged in, you will see a Jupyter environment with a directory of files. Jupyter provides you with an interactive environment in the form of notebooks (identified by their `.ipynb` extension) in which you can read the course material and execute bits of python. Everything you run is executed in the cloud, which means it is run on an online computing system (in this case [Microsoft Azure](https://azure.microsoft.com/)) somewhere else.\n",
    "\n",
    "During the lectures, you are very much encouraged to try to run the python that is being discussed for yourself. There will also be some exercises in which you write (or adapt) some python yourself and execute it. Everything is run in your own private session. If you make changes to the notebook and save it, it is saved within the file structure of that private session. As long as you remember your username and password you can always come back to that session and the files saved therein. If you really want to keep things for yourself however you should download them (see `Download` in the `File` menu) to your computer locally.\n",
    "\n",
    "The course material you see available in the jupyter directory of files, is also available from github at:\n",
    "https://github.com/ImperialCollegeLondon/maldives-fem-training/."
   ]
  },
  {
   "cell_type": "markdown",
   "metadata": {},
   "source": [
    "## Introduction to programming in Python"
   ]
  },
  {
   "cell_type": "markdown",
   "metadata": {},
   "source": [
    "### Local installation of Python, NumPy, Matplotlib, etc.\n",
    "There are various ways of installing Python on your own computer (it may already have it). If you want to use the same sort of functionality that is offered by Matlab, you additionally need to install a number of Python libraries such as [NumPy](https://www.numpy.org/), [SciPy](https://www.scipy.org/), and [Matplotlib](https://matplotlib.org/). An easy way to install all this is using [Conda](https://conda.io/), a package manager. See here for [Conda installation instructions](https://conda.io/projects/conda/en/latest/user-guide/install/index.html)\n",
    "\n",
    "### Local installation of Firedrake and Thetis\n",
    "In lecture 3 we will be using Firedrake, a finite element framework in Python, and in lecture 4 we will introduce Thetis, a coastal ocean model build using Firedrake. The installation of this is not recommended inside conda. On a Mac or Linux system, you need to run the following commands in a terminal:\n",
    "```bash\n",
    "curl -O https://raw.githubusercontent.com/firedrakeproject/firedrake/master/scripts/firedrake-install\n",
    "python3 firedrake-install --install thetis\n",
    "```\n",
    "On a Windows 10 system, you can do the same in the [Windows Subsystem for Linux](https://docs.microsoft.com/en-us/windows/wsl/about). Note that the installation process can take up to one hour as it builds various libraries locally. For more [installation instructions for Firedrake](https://www.firedrakeproject.org/download.html)\n",
    "\n",
    "### Alternative: run a container locally\n",
    "As an alternative, you can run the same jupyter service that we are offering during the course, locally in a so-called [Docker](https://www.docker.com/) container. For this you need to install Docker on your system first, see [instructions here](https://runnable.com/docker/). Then all you need to run is (from a terminal)\n",
    "```bash\n",
    "docker run -p 8888:8888 stephankramer/maldives-fem-training\n",
    "```\n",
    "and connect your web browser to the following address http://localhost:8888. The first time you run this it will need to download a 3G Docker container image from [Docker Hub](https://hub.docker.com)."
   ]
  },
  {
   "cell_type": "markdown",
   "metadata": {},
   "source": [
    "## Quick-start guide\n",
    "\n",
    "### Getting started with Python and notebooks\n",
    "\n",
    "Python is a widely used programming language, and its usage is [constantly increasing](https://www.tiobe.com/tiobe-index/). The key to Python's success is that it is easy to write (we teach it as a first programming language in Imperial's Earth Science and Engineering department), and it has one of the most extensive package libraries of any programming language (more later). Often considered an open-source (free) alternative to Matlab, learning Python as a Matlab user is relatively straightforward, and there are plenty of resources to help make the transition easier (more later).\n",
    "\n",
    "While Matlab is run almost exclusively through its own IDE (integrated development environment), this workshop will make extensive use of Notebooks - such as this one - as a Python programming environment. Notebooks provide a convenient way to run Python interactively, and embedded with other content (e.g. double click on this \"markdown\" cell and you will see how text, links, and in later cells figures and equations, can be typeset. \"Run\" the cell in order to re-render it).\n",
    "\n",
    "Code cells such as the ones below allow Python code to be executed within the notebook. The code cells below are designed to demonstrate the core usage of Python which can be used as a quick reference example.\n",
    "\n",
    "Run each code cell by clicking \"run\" on the toolbar at the top of the page, or by pressing Ctrl+Enter."
   ]
  },
  {
   "cell_type": "code",
   "execution_count": 1,
   "metadata": {},
   "outputs": [
    {
     "name": "stdout",
     "output_type": "stream",
     "text": [
      "Hello world\n"
     ]
    }
   ],
   "source": [
    "# Comment your code like this\n",
    "print(\"Hello world\")"
   ]
  },
  {
   "cell_type": "markdown",
   "metadata": {},
   "source": [
    "### Some quick examples of Python usage"
   ]
  },
  {
   "cell_type": "code",
   "execution_count": 2,
   "metadata": {},
   "outputs": [
    {
     "name": "stdout",
     "output_type": "stream",
     "text": [
      "9\n",
      "75\n"
     ]
    }
   ],
   "source": [
    "# Variables and basic algebra work very similarly to Matlab\n",
    "\n",
    "a = 2\n",
    "b = 7\n",
    "\n",
    "print(a + b)\n",
    "\n",
    "print(6*a + a*b + b**2)"
   ]
  },
  {
   "cell_type": "code",
   "execution_count": 3,
   "metadata": {},
   "outputs": [
    {
     "name": "stdout",
     "output_type": "stream",
     "text": [
      "16\n",
      "2.8284271247461903\n",
      "3.141592653589793\n",
      "0.7071067811865475\n",
      "2.302585092994046\n"
     ]
    }
   ],
   "source": [
    "# Some basic mathematics, using Python's math library\n",
    "\n",
    "import math\n",
    "\n",
    "# Powers\n",
    "print(2**4)\n",
    "\n",
    "# Square root\n",
    "print(math.sqrt(8))\n",
    "\n",
    "# Pi\n",
    "print(math.pi)\n",
    "\n",
    "# Trigonometry\n",
    "print(math.sin(math.pi/4))\n",
    "\n",
    "# Natural log\n",
    "print(math.log(10))"
   ]
  },
  {
   "cell_type": "code",
   "execution_count": 4,
   "metadata": {},
   "outputs": [
    {
     "name": "stdout",
     "output_type": "stream",
     "text": [
      "(-0.4494897427831779, 4.449489742783178)\n"
     ]
    }
   ],
   "source": [
    "# A simple Python function\n",
    "\n",
    "def quadratic_formula(a, b, c):\n",
    "    d = math.sqrt(b**2 - 4*a*c)\n",
    "    return (-b + d)/(2*a), (-b - d)/(2*a)\n",
    "\n",
    "print(quadratic_formula(-1, 4, 2))"
   ]
  },
  {
   "cell_type": "code",
   "execution_count": 5,
   "metadata": {},
   "outputs": [
    {
     "name": "stdout",
     "output_type": "stream",
     "text": [
      "18\n"
     ]
    }
   ],
   "source": [
    "# An even simpler Python function: some functions can be written compactly in just one line, using \"lambda notation\"\n",
    "\n",
    "f = lambda a : a + 10\n",
    "\n",
    "# What do you think this function does?\n",
    "\n",
    "print(f(8))"
   ]
  },
  {
   "cell_type": "markdown",
   "metadata": {},
   "source": [
    "### For arrays and matrices, use NumPy\n",
    "\n",
    "NumPy is Python's main numerical algebra library. It makes arrays and matrices easy to create and manipulate, but the underlying code is written in C, making it fast and efficient. Here's a very basic example:"
   ]
  },
  {
   "cell_type": "code",
   "execution_count": 6,
   "metadata": {},
   "outputs": [
    {
     "data": {
      "text/plain": [
       "array([[1., 0., 0., 0., 0.],\n",
       "       [0., 1., 0., 0., 0.],\n",
       "       [0., 0., 1., 0., 0.],\n",
       "       [0., 0., 0., 1., 0.],\n",
       "       [0., 0., 0., 0., 1.]])"
      ]
     },
     "execution_count": 6,
     "metadata": {},
     "output_type": "execute_result"
    }
   ],
   "source": [
    "import numpy as np\n",
    "\n",
    "# Create 5x5 identity matrix\n",
    "np.eye(5)"
   ]
  },
  {
   "cell_type": "markdown",
   "metadata": {},
   "source": [
    "### NumPy tips for Matlab users\n",
    "\n",
    "There are several key differences in dealing with arrays and matrices in Matlab and Python. A good resource for these differences can be found on the [NumPy website](https://docs.scipy.org/doc/numpy/user/numpy-for-matlab-users.html), but here are the two most likely to trip up users more familiar with Matlab."
   ]
  },
  {
   "cell_type": "markdown",
   "metadata": {},
   "source": [
    "In NumPy, the default operations on arrays act in an element-wise fashion, rather than as matrix operations:"
   ]
  },
  {
   "cell_type": "code",
   "execution_count": 7,
   "metadata": {},
   "outputs": [
    {
     "name": "stdout",
     "output_type": "stream",
     "text": [
      "[[0 1 2]\n",
      " [3 4 5]\n",
      " [6 7 8]]\n",
      "[[8 7 6]\n",
      " [5 4 3]\n",
      " [2 1 0]]\n",
      "[[ 0  7 12]\n",
      " [15 16 15]\n",
      " [12  7  0]]\n",
      "[[ 9  6  3]\n",
      " [54 42 30]\n",
      " [99 78 57]]\n"
     ]
    }
   ],
   "source": [
    "import numpy as np\n",
    "\n",
    "# Create two 3x3 arrays\n",
    "a = np.array([[0, 1, 2], [3, 4, 5], [6, 7, 8]])\n",
    "b = np.array([[8, 7, 6], [5, 4, 3], [2, 1, 0]])\n",
    "print(a)\n",
    "print(b)\n",
    "\n",
    "# Element-wise multiplication\n",
    "c = a*b\n",
    "print(c)\n",
    "\n",
    "# Matrix product\n",
    "d = a@b\n",
    "print(d)\n",
    "\n",
    "# Note: in older Python code you might see the following, which is equivalent to the \"@\" notation above:\n",
    "#d = a.dot(b)"
   ]
  },
  {
   "cell_type": "markdown",
   "metadata": {},
   "source": [
    "In NumPy, arrays are indexed from 0, *not* 1, and using square brackets."
   ]
  },
  {
   "cell_type": "code",
   "execution_count": 8,
   "metadata": {},
   "outputs": [
    {
     "name": "stdout",
     "output_type": "stream",
     "text": [
      "[[0 1 2]\n",
      " [3 4 5]\n",
      " [6 7 8]]\n",
      "4\n",
      "8\n",
      "15\n"
     ]
    }
   ],
   "source": [
    "print(a)\n",
    "\n",
    "print(a[1,1])\n",
    "\n",
    "print(b[0,0])\n",
    "\n",
    "print(c[1, 2])\n",
    "\n",
    "# What happens if you run this code?\n",
    "#print(d(2, 3))\n",
    "#print(d[3, 1])"
   ]
  },
  {
   "cell_type": "markdown",
   "metadata": {},
   "source": [
    "For other Python tips for Matlab users, have a look [here](https://docs.scipy.org/doc/numpy/user/numpy-for-matlab-users.html), or other online resources.\n",
    "\n",
    "Full NumPy documentation can also be found online: https://docs.scipy.org/doc/numpy/user/index.html\n",
    "\n",
    "There will be more on using NumPy later in the notebook."
   ]
  },
  {
   "cell_type": "markdown",
   "metadata": {},
   "source": [
    "## Further Python basics\n",
    "\n",
    "In general, your Matlab programming skills will transfer easily to Python. The rest of this notebook goes through a variety of Python basics, including strings, loops, lists, the `if` construct, arrays and plotting. The accompanying homework notebook contains plenty of exercises so that you can practise using Python."
   ]
  },
  {
   "cell_type": "markdown",
   "metadata": {
    "slideshow": {
     "slide_type": "slide"
    }
   },
   "source": [
    "### Formatted printing style\n",
    "\n",
    "Often we want to print out results using a combination of text and numbers, e.g. \"The square of 0.63 is 0.397\". Particularly when printing out floating point numbers we should **never** quote numbers to a higher accuracy than they were measured. Python provides a *printf formatting* syntax exactly for this purpose. We can see in the following example that the *slot* `%g` was used to express the floating point number with the minimum number of significant figures, and the *slot* `%.2f` specified that only two digits are printed out after the decimal point."
   ]
  },
  {
   "cell_type": "code",
   "execution_count": 9,
   "metadata": {
    "slideshow": {
     "slide_type": "fragment"
    }
   },
   "outputs": [
    {
     "name": "stdout",
     "output_type": "stream",
     "text": [
      "The square of 0.63 is 0.40\n"
     ]
    }
   ],
   "source": [
    "x = 0.63\n",
    "y = x**2\n",
    "print(\"The square of %g is %.2f\" % (x, y))"
   ]
  },
  {
   "cell_type": "markdown",
   "metadata": {
    "slideshow": {
     "slide_type": "fragment"
    }
   },
   "source": [
    "Notice in this example how the values in the tuple `(x, y)` are inserted into the *slots*."
   ]
  },
  {
   "cell_type": "markdown",
   "metadata": {
    "slideshow": {
     "slide_type": "slide"
    }
   },
   "source": [
    "### Boolean expressions\n",
    "\n",
    "An expression with value *true* or *false* is called a boolean expression. Example expressions for what you would write mathematically as\n",
    "$C=40$, $C\\ne40$, $C\\ge40$, $C\\gt40$ and $C\\lt40$ are:\n",
    "\n",
    "```python\n",
    "C == 40 # Note: the double == checks for equality!\n",
    "C != 40 # This could also be written as 'not C == 40'\n",
    "C >= 40\n",
    "C > 40\n",
    "C < 40\n",
    "```"
   ]
  },
  {
   "cell_type": "markdown",
   "metadata": {
    "slideshow": {
     "slide_type": "subslide"
    }
   },
   "source": [
    "We can test boolean expressions in a Python shell:"
   ]
  },
  {
   "cell_type": "code",
   "execution_count": 10,
   "metadata": {
    "slideshow": {
     "slide_type": "fragment"
    }
   },
   "outputs": [
    {
     "name": "stdout",
     "output_type": "stream",
     "text": [
      "C != 40:  True\n",
      "C < 40:  False\n",
      "C == 41:  True\n"
     ]
    }
   ],
   "source": [
    "C = 41\n",
    "print(\"C != 40: \", C != 40)\n",
    "print(\"C < 40: \", C < 40)\n",
    "print(\"C == 41: \", C == 41)"
   ]
  },
  {
   "cell_type": "markdown",
   "metadata": {
    "slideshow": {
     "slide_type": "subslide"
    }
   },
   "source": [
    "Several conditions can be combined with the special `and` and `or` keywords into a single boolean expression:\n",
    "\n",
    "* Rule 1: (**C1** *and* **C2**) is *True* only if both **C1** and **C2** are *True*\n",
    "* Rule 2: (**C1** *or* **C2**) is *True* if either **C1** or **C2** are *True*\n",
    "\n",
    "Examples:"
   ]
  },
  {
   "cell_type": "code",
   "execution_count": 11,
   "metadata": {
    "slideshow": {
     "slide_type": "fragment"
    }
   },
   "outputs": [
    {
     "name": "stdout",
     "output_type": "stream",
     "text": [
      "False\n",
      "True\n",
      "False\n"
     ]
    }
   ],
   "source": [
    "x=0; y=1.2\n",
    "print (x >= 0 and y < 1)\n",
    "print (x >= 0 or y < 1)\n",
    "print (x > 0 or y < 1)"
   ]
  },
  {
   "cell_type": "markdown",
   "metadata": {
    "slideshow": {
     "slide_type": "slide"
    }
   },
   "source": [
    "### Loops\n",
    "Suppose we want to make a table of Celsius and Fahrenheit degrees:\n",
    "```\n",
    "             -20  -4.0\n",
    "             -15   5.0\n",
    "             -10  14.0\n",
    "              -5  23.0\n",
    "               0  32.0\n",
    "               5  41.0\n",
    "              10  50.0\n",
    "              15  59.0\n",
    "              20  68.0\n",
    "              25  77.0\n",
    "              30  86.0\n",
    "              35  95.0\n",
    "              40 104.0\n",
    "              ```"
   ]
  },
  {
   "cell_type": "markdown",
   "metadata": {
    "slideshow": {
     "slide_type": "subslide"
    }
   },
   "source": [
    "How do we write a program that prints out such a table?\n",
    "\n",
    "We know the basic formula for converting Celsius to Fahrenheit:"
   ]
  },
  {
   "cell_type": "code",
   "execution_count": 12,
   "metadata": {
    "slideshow": {
     "slide_type": "fragment"
    }
   },
   "outputs": [
    {
     "name": "stdout",
     "output_type": "stream",
     "text": [
      "-20 -4.0\n"
     ]
    }
   ],
   "source": [
    "C = -20\n",
    "F = 9.0/5*C + 32\n",
    "print(C, F)"
   ]
  },
  {
   "cell_type": "markdown",
   "metadata": {
    "slideshow": {
     "slide_type": "slide"
    }
   },
   "source": [
    "### The while loop (and the significance of indentation)\n",
    "A while loop executes repeatedly a set of statements as long as a **boolean** (i.e. *True* / *False*) condition is *True*\n",
    "\n",
    "```\n",
    "while condition:\n",
    "    <statement 1>\n",
    "    <statement 2>\n",
    "    ...\n",
    "<first statement after loop>\n",
    "```"
   ]
  },
  {
   "cell_type": "markdown",
   "metadata": {
    "slideshow": {
     "slide_type": "subslide"
    }
   },
   "source": [
    "Note that all statements to be executed within the loop must be indented by the same amount. The loop ends when an unindented statement is encountered.\n",
    "\n",
    "A very simple while loop:"
   ]
  },
  {
   "cell_type": "code",
   "execution_count": 13,
   "metadata": {
    "slideshow": {
     "slide_type": "fragment"
    }
   },
   "outputs": [
    {
     "name": "stdout",
     "output_type": "stream",
     "text": [
      "1\n",
      "2\n",
      "3\n",
      "4\n",
      "5\n",
      "6\n",
      "7\n",
      "8\n",
      "9\n",
      "10\n"
     ]
    }
   ],
   "source": [
    "counter = 0\n",
    "while counter < 10:\n",
    "    counter = counter + 1\n",
    "    print(counter)"
   ]
  },
  {
   "cell_type": "markdown",
   "metadata": {
    "slideshow": {
     "slide_type": "subslide"
    }
   },
   "source": [
    "Let's use the while loop to create the table above:"
   ]
  },
  {
   "cell_type": "code",
   "execution_count": 14,
   "metadata": {
    "slideshow": {
     "slide_type": "fragment"
    }
   },
   "outputs": [
    {
     "name": "stdout",
     "output_type": "stream",
     "text": [
      "-20 -4.0\n",
      "-15 5.0\n",
      "-10 14.0\n",
      "-5 23.0\n",
      "0 32.0\n",
      "5 41.0\n",
      "10 50.0\n",
      "15 59.0\n",
      "20 68.0\n",
      "25 77.0\n",
      "30 86.0\n",
      "35 95.0\n",
      "40 104.0\n"
     ]
    }
   ],
   "source": [
    "C = -20                 # Initialise C\n",
    "dC = 5                  # Increment for C within the loop\n",
    "while C <= 40:          # Loop heading with condition\n",
    "    F = (9.0/5)*C + 32  # 1st statement inside loop\n",
    "    print(C, F)         # 2nd statement inside loop\n",
    "    C = C + dC          # Increment C for the next iteration of the loop."
   ]
  },
  {
   "cell_type": "markdown",
   "metadata": {
    "slideshow": {
     "slide_type": "slide"
    }
   },
   "source": [
    "### Lists\n",
    "So far, one variable has referred to one number (or string). Sometimes however we naturally have a collection of numbers, say\n",
    "degrees −20, −15, −10, −5, 0, ..., 40. One way to store these values in a computer program would be to have one variable per value, i.e."
   ]
  },
  {
   "cell_type": "code",
   "execution_count": 15,
   "metadata": {
    "slideshow": {
     "slide_type": "fragment"
    }
   },
   "outputs": [],
   "source": [
    "C1 = -20\n",
    "C2 = -15\n",
    "C3 = -10\n",
    "# ...\n",
    "C13 = 40"
   ]
  },
  {
   "cell_type": "markdown",
   "metadata": {
    "slideshow": {
     "slide_type": "subslide"
    }
   },
   "source": [
    "This is clearly a terrible solution, particularly if we have lots of values. A better way of doing this is to collect values together in a list:"
   ]
  },
  {
   "cell_type": "code",
   "execution_count": 16,
   "metadata": {
    "slideshow": {
     "slide_type": "fragment"
    }
   },
   "outputs": [],
   "source": [
    "C = [-20, -15, -10, -5, 0, 5, 10, 15, 20, 25, 30, 35, 40]"
   ]
  },
  {
   "cell_type": "markdown",
   "metadata": {
    "slideshow": {
     "slide_type": "subslide"
    }
   },
   "source": [
    "Now there is just one variable, `C`, holding all the values. Elements in a list are accessed via an index. List indices are always numbered as 0, 1, 2, and so forth up to the number of elements minus one.\n",
    "\n",
    "`Note for Matlab users: lists (and arrays) are indexed from 0 in Python - this may catch you out!`"
   ]
  },
  {
   "cell_type": "code",
   "execution_count": 17,
   "metadata": {
    "slideshow": {
     "slide_type": "fragment"
    }
   },
   "outputs": [
    {
     "name": "stdout",
     "output_type": "stream",
     "text": [
      "4\n",
      "6\n",
      "-3.5\n",
      "3\n"
     ]
    }
   ],
   "source": [
    "mylist = [4, 6, -3.5]\n",
    "print(mylist[0])\n",
    "print(mylist[1])\n",
    "print(mylist[2])\n",
    "print(len(mylist))  # length of list"
   ]
  },
  {
   "cell_type": "markdown",
   "metadata": {
    "slideshow": {
     "slide_type": "subslide"
    }
   },
   "source": [
    "Here are a few examples of operations that you can perform on lists:"
   ]
  },
  {
   "cell_type": "code",
   "execution_count": 18,
   "metadata": {
    "slideshow": {
     "slide_type": "fragment"
    }
   },
   "outputs": [
    {
     "name": "stdout",
     "output_type": "stream",
     "text": [
      "[-10, -5, 0, 5, 10, 15, 20, 25, 30, 35]\n"
     ]
    }
   ],
   "source": [
    "C = [-10, -5, 0, 5, 10, 15, 20, 25, 30]\n",
    "C.append(35) # add new element 35 at the end\n",
    "print(C)"
   ]
  },
  {
   "cell_type": "code",
   "execution_count": 19,
   "metadata": {
    "slideshow": {
     "slide_type": "fragment"
    }
   },
   "outputs": [
    {
     "name": "stdout",
     "output_type": "stream",
     "text": [
      "[-10, -5, 0, 5, 10, 15, 20, 25, 30, 35, 40, 45]\n"
     ]
    }
   ],
   "source": [
    "C=C+[40,45] # And another list to the end of C\n",
    "print(C)"
   ]
  },
  {
   "cell_type": "code",
   "execution_count": 20,
   "metadata": {
    "slideshow": {
     "slide_type": "fragment"
    }
   },
   "outputs": [
    {
     "name": "stdout",
     "output_type": "stream",
     "text": [
      "[-15, -10, -5, 0, 5, 10, 15, 20, 25, 30, 35, 40, 45]\n"
     ]
    }
   ],
   "source": [
    "C.insert(0, -15)     # Insert -15 as index 0\n",
    "print(C)"
   ]
  },
  {
   "cell_type": "code",
   "execution_count": 21,
   "metadata": {
    "slideshow": {
     "slide_type": "fragment"
    }
   },
   "outputs": [
    {
     "name": "stdout",
     "output_type": "stream",
     "text": [
      "[-15, -10, 0, 5, 10, 15, 20, 25, 30, 35, 40, 45]\n"
     ]
    }
   ],
   "source": [
    "del C[2]             # delete 3rd element\n",
    "print(C)"
   ]
  },
  {
   "cell_type": "code",
   "execution_count": 22,
   "metadata": {
    "slideshow": {
     "slide_type": "subslide"
    }
   },
   "outputs": [
    {
     "name": "stdout",
     "output_type": "stream",
     "text": [
      "[-15, -10, 5, 10, 15, 20, 25, 30, 35, 40, 45]\n"
     ]
    }
   ],
   "source": [
    "del C[2]             # delete what is now 3rd element\n",
    "print(C)"
   ]
  },
  {
   "cell_type": "code",
   "execution_count": 23,
   "metadata": {
    "slideshow": {
     "slide_type": "fragment"
    }
   },
   "outputs": [
    {
     "name": "stdout",
     "output_type": "stream",
     "text": [
      "11\n"
     ]
    }
   ],
   "source": [
    "print(len(C))         # length of list"
   ]
  },
  {
   "cell_type": "code",
   "execution_count": 24,
   "metadata": {
    "slideshow": {
     "slide_type": "fragment"
    }
   },
   "outputs": [
    {
     "name": "stdout",
     "output_type": "stream",
     "text": [
      "3\n"
     ]
    }
   ],
   "source": [
    "print(C.index(10))    # Find the index of the list with the value 10"
   ]
  },
  {
   "cell_type": "code",
   "execution_count": 25,
   "metadata": {
    "slideshow": {
     "slide_type": "fragment"
    }
   },
   "outputs": [
    {
     "name": "stdout",
     "output_type": "stream",
     "text": [
      "True\n"
     ]
    }
   ],
   "source": [
    "print(10 in C)        # True only if the value 10 is stored in the list"
   ]
  },
  {
   "cell_type": "code",
   "execution_count": 26,
   "metadata": {
    "slideshow": {
     "slide_type": "fragment"
    }
   },
   "outputs": [
    {
     "name": "stdout",
     "output_type": "stream",
     "text": [
      "45\n"
     ]
    }
   ],
   "source": [
    "print(C[-1])          # The last value in the list."
   ]
  },
  {
   "cell_type": "code",
   "execution_count": 27,
   "metadata": {
    "slideshow": {
     "slide_type": "fragment"
    }
   },
   "outputs": [
    {
     "name": "stdout",
     "output_type": "stream",
     "text": [
      "40\n"
     ]
    }
   ],
   "source": [
    "print(C[-2])          # The second last value in the list."
   ]
  },
  {
   "cell_type": "markdown",
   "metadata": {
    "slideshow": {
     "slide_type": "subslide"
    }
   },
   "source": [
    "You can also extract sublists using \":\""
   ]
  },
  {
   "cell_type": "code",
   "execution_count": 28,
   "metadata": {
    "slideshow": {
     "slide_type": "fragment"
    }
   },
   "outputs": [
    {
     "name": "stdout",
     "output_type": "stream",
     "text": [
      "[20, 25, 30, 35, 40, 45]\n"
     ]
    }
   ],
   "source": [
    "print(C[5:])          # From index 5 to the end of the list."
   ]
  },
  {
   "cell_type": "code",
   "execution_count": 29,
   "metadata": {
    "slideshow": {
     "slide_type": "fragment"
    }
   },
   "outputs": [
    {
     "name": "stdout",
     "output_type": "stream",
     "text": [
      "[20, 25]\n"
     ]
    }
   ],
   "source": [
    "print(C[5:7])         # From index 5 up to, but not including index 7."
   ]
  },
  {
   "cell_type": "code",
   "execution_count": 30,
   "metadata": {
    "slideshow": {
     "slide_type": "fragment"
    }
   },
   "outputs": [
    {
     "name": "stdout",
     "output_type": "stream",
     "text": [
      "[30, 35, 40]\n"
     ]
    }
   ],
   "source": [
    "print(C[7:-1])        # From index 7 up to the second last element."
   ]
  },
  {
   "cell_type": "code",
   "execution_count": 31,
   "metadata": {
    "slideshow": {
     "slide_type": "fragment"
    }
   },
   "outputs": [
    {
     "name": "stdout",
     "output_type": "stream",
     "text": [
      "[-15, -10, 5, 10, 15, 20, 25, 30, 35, 40, 45]\n"
     ]
    }
   ],
   "source": [
    "print(C[:])           # [:] specifies the whole list."
   ]
  },
  {
   "cell_type": "markdown",
   "metadata": {
    "slideshow": {
     "slide_type": "subslide"
    }
   },
   "source": [
    "You can also unpack the elements of a list into separate variables:"
   ]
  },
  {
   "cell_type": "code",
   "execution_count": 32,
   "metadata": {
    "slideshow": {
     "slide_type": "fragment"
    }
   },
   "outputs": [
    {
     "name": "stdout",
     "output_type": "stream",
     "text": [
      "Moe Larry Curly\n"
     ]
    }
   ],
   "source": [
    "somelist = ['Curly', 'Larry', 'Moe']\n",
    "stooge1, stooge2, stooge3 = somelist\n",
    "print(stooge3, stooge2, stooge1)"
   ]
  },
  {
   "cell_type": "markdown",
   "metadata": {
    "slideshow": {
     "slide_type": "slide"
    }
   },
   "source": [
    "### For loops\n",
    "We can visit each element in a list and process the element with some statements using a *for* loop, for example:"
   ]
  },
  {
   "cell_type": "code",
   "execution_count": 33,
   "metadata": {
    "slideshow": {
     "slide_type": "fragment"
    }
   },
   "outputs": [
    {
     "name": "stdout",
     "output_type": "stream",
     "text": [
      "list element: 0\n",
      "list element: 10\n",
      "list element: 20\n",
      "list element: 40\n",
      "list element: 100\n",
      "The degrees list has 5 elements\n"
     ]
    }
   ],
   "source": [
    "degrees = [0, 10, 20, 40, 100]\n",
    "for C in degrees:\n",
    "    print('list element:', C)\n",
    "print('The degrees list has', len(degrees), 'elements')"
   ]
  },
  {
   "cell_type": "markdown",
   "metadata": {
    "slideshow": {
     "slide_type": "subslide"
    }
   },
   "source": [
    "Notice again how the statements to be executed within the loop must be indented! Let's now revisit the conversion table example using the *for* loop:"
   ]
  },
  {
   "cell_type": "code",
   "execution_count": 34,
   "metadata": {
    "slideshow": {
     "slide_type": "fragment"
    }
   },
   "outputs": [
    {
     "name": "stdout",
     "output_type": "stream",
     "text": [
      "-20 -4.0\n",
      "-15 5.0\n",
      "-10 14.0\n",
      "-5 23.0\n",
      "0 32.0\n",
      "5 41.0\n",
      "10 50.0\n",
      "15 59.0\n",
      "20 68.0\n",
      "25 77.0\n",
      "30 86.0\n",
      "35 95.0\n",
      "40 104.0\n"
     ]
    }
   ],
   "source": [
    "Cdegrees = [-20, -15, -10, -5, 0, 5, 10, 15, 20, 25, 30, 35, 40]\n",
    "for C in Cdegrees:\n",
    "    F = (9.0/5)*C + 32\n",
    "    print(C, F)"
   ]
  },
  {
   "cell_type": "markdown",
   "metadata": {
    "slideshow": {
     "slide_type": "subslide"
    }
   },
   "source": [
    "We can easily beautify the table using the printf syntax that we encountered earlier:"
   ]
  },
  {
   "cell_type": "code",
   "execution_count": 35,
   "metadata": {
    "slideshow": {
     "slide_type": "fragment"
    }
   },
   "outputs": [
    {
     "name": "stdout",
     "output_type": "stream",
     "text": [
      "  -20  -4.0\n",
      "  -15   5.0\n",
      "  -10  14.0\n",
      "   -5  23.0\n",
      "    0  32.0\n",
      "    5  41.0\n",
      "   10  50.0\n",
      "   15  59.0\n",
      "   20  68.0\n",
      "   25  77.0\n",
      "   30  86.0\n",
      "   35  95.0\n",
      "   40 104.0\n"
     ]
    }
   ],
   "source": [
    "for C in Cdegrees:\n",
    "    F = (9.0/5)*C + 32       \n",
    "    print('%5d %5.1f' % (C, F))"
   ]
  },
  {
   "cell_type": "markdown",
   "metadata": {
    "slideshow": {
     "slide_type": "subslide"
    }
   },
   "source": [
    "It is also possible to rewrite the *for* loop as a *while* loop, i.e.,\n",
    "\n",
    "```\n",
    "for element in somelist:\n",
    "           # process element\n",
    "```"
   ]
  },
  {
   "cell_type": "markdown",
   "metadata": {
    "slideshow": {
     "slide_type": "subslide"
    }
   },
   "source": [
    "can always be transformed to a *while* loop\n",
    "```\n",
    "index = 0\n",
    "while index < len(somelist):\n",
    "    element = somelist[index]\n",
    "    # process element\n",
    "    index += 1\n",
    "    ```"
   ]
  },
  {
   "cell_type": "markdown",
   "metadata": {
    "slideshow": {
     "slide_type": "subslide"
    }
   },
   "source": [
    "[Note that ```+=``` is an example of a so-called augmented assignment statement (https://docs.python.org/2/reference/simple_stmts.html#augmented-assignment-statements). Think of it as shorthand for writing ```index = index + 1```]\n",
    "\n",
    "\n",
    "Taking the previous table example:"
   ]
  },
  {
   "cell_type": "code",
   "execution_count": 36,
   "metadata": {
    "slideshow": {
     "slide_type": "fragment"
    }
   },
   "outputs": [
    {
     "name": "stdout",
     "output_type": "stream",
     "text": [
      "  -20  -4.0\n",
      "  -15   5.0\n",
      "  -10  14.0\n",
      "   -5  23.0\n",
      "    0  32.0\n",
      "    5  41.0\n",
      "   10  50.0\n",
      "   15  59.0\n",
      "   20  68.0\n",
      "   25  77.0\n",
      "   30  86.0\n",
      "   35  95.0\n",
      "   40 104.0\n"
     ]
    }
   ],
   "source": [
    "Cdegrees = [-20, -15, -10, -5, 0, 5, 10, 15, 20, 25, 30, 35, 40]\n",
    "index = 0\n",
    "while index < len(Cdegrees):\n",
    "    C = Cdegrees[index]\n",
    "    F = (9.0/5)*C + 32\n",
    "    print('%5d %5.1f' % (C, F))\n",
    "    index += 1"
   ]
  },
  {
   "cell_type": "markdown",
   "metadata": {
    "slideshow": {
     "slide_type": "subslide"
    }
   },
   "source": [
    "Rather than just printing out the Fahrenheit values, let's also store these computed values in a list of their own:"
   ]
  },
  {
   "cell_type": "code",
   "execution_count": 37,
   "metadata": {
    "slideshow": {
     "slide_type": "fragment"
    }
   },
   "outputs": [
    {
     "name": "stdout",
     "output_type": "stream",
     "text": [
      "[-4.0, 5.0, 14.0, 23.0, 32.0, 41.0, 50.0, 59.0, 68.0, 77.0, 86.0, 95.0, 104.0]\n"
     ]
    }
   ],
   "source": [
    "Cdegrees = [-20, -15, -10, -5, 0, 5, 10, 15, 20, 25, 30, 35, 40]\n",
    "Fdegrees = []            # start with empty list\n",
    "for C in Cdegrees:\n",
    "    F = (9.0/5)*C + 32\n",
    "    Fdegrees.append(F)   # add new element to Fdegrees\n",
    "print(Fdegrees)"
   ]
  },
  {
   "cell_type": "markdown",
   "metadata": {
    "slideshow": {
     "slide_type": "subslide"
    }
   },
   "source": [
    "In Python *for* loops usually loop over list values (elements), i.e.,\n",
    "\n",
    "```\n",
    "for element in somelist:\n",
    "    ...process variable element\n",
    "```"
   ]
  },
  {
   "cell_type": "markdown",
   "metadata": {
    "slideshow": {
     "slide_type": "subslide"
    }
   },
   "source": [
    "However, we can also loop over a range of indices:\n",
    "\n",
    "```\n",
    "for i in range(0, len(somelist), 1):\n",
    "    element = somelist[i]\n",
    "    ... process element or somelist[i] directly\n",
    "    ```   "
   ]
  },
  {
   "cell_type": "markdown",
   "metadata": {
    "slideshow": {
     "slide_type": "subslide"
    }
   },
   "source": [
    "The statement *range(start, stop, inc)* generates a range of integers *start*, *start+inc*, *start+2 inc*, and so on up to, but not including, *stop*. We can also write *range(stop)* as an abbreviation for *range(0, stop, 1)*.\n",
    "\n",
    "It should be noted that `range` does not create an explicit list in memory, unless we ask for it. Thus we can implement with very many iterations without wasting memory. To convert a range to an explicit we simply use `list(range(...)`."
   ]
  },
  {
   "cell_type": "code",
   "execution_count": 38,
   "metadata": {
    "slideshow": {
     "slide_type": "fragment"
    }
   },
   "outputs": [
    {
     "name": "stdout",
     "output_type": "stream",
     "text": [
      "[0, 1, 2]\n"
     ]
    }
   ],
   "source": [
    "print(list(range(3))) # same as range(0, 3, 1)"
   ]
  },
  {
   "cell_type": "code",
   "execution_count": 39,
   "metadata": {
    "slideshow": {
     "slide_type": "fragment"
    }
   },
   "outputs": [
    {
     "name": "stdout",
     "output_type": "stream",
     "text": [
      "[2, 5]\n"
     ]
    }
   ],
   "source": [
    "print(list(range(2, 8, 3)))"
   ]
  },
  {
   "cell_type": "markdown",
   "metadata": {
    "slideshow": {
     "slide_type": "slide"
    }
   },
   "source": [
    "### List comprehensions\n",
    "Consider this example where we compute two lists in a *for* loop:"
   ]
  },
  {
   "cell_type": "code",
   "execution_count": 40,
   "metadata": {
    "slideshow": {
     "slide_type": "fragment"
    }
   },
   "outputs": [
    {
     "name": "stdout",
     "output_type": "stream",
     "text": [
      "Cdegrees =  [-5.0, -4.5, -4.0, -3.5, -3.0, -2.5, -2.0, -1.5, -1.0, -0.5, 0.0, 0.5, 1.0, 1.5, 2.0, 2.5]\n",
      "Fdegrees =  [23.0, 23.9, 24.8, 25.7, 26.6, 27.5, 28.4, 29.3, 30.2, 31.1, 32.0, 32.9, 33.8, 34.7, 35.6, 36.5]\n"
     ]
    }
   ],
   "source": [
    "n = 16\n",
    "Cdegrees = [];  Fdegrees = []  # empty lists\n",
    "for i in range(n):\n",
    "    Cdegrees.append(-5 + i*0.5)\n",
    "    Fdegrees.append((9.0/5)*Cdegrees[i] + 32)\n",
    "print(\"Cdegrees = \", Cdegrees)\n",
    "print(\"Fdegrees = \", Fdegrees)"
   ]
  },
  {
   "cell_type": "markdown",
   "metadata": {
    "slideshow": {
     "slide_type": "subslide"
    }
   },
   "source": [
    "As constructing lists is a very common requirement, the above way of doing it can become very tedious to both write and read. Therefore, Python has a compact construct, called list comprehension, for generating lists from a *for* loop:"
   ]
  },
  {
   "cell_type": "code",
   "execution_count": 41,
   "metadata": {
    "slideshow": {
     "slide_type": "fragment"
    }
   },
   "outputs": [
    {
     "name": "stdout",
     "output_type": "stream",
     "text": [
      "Cdegrees =  [-5.0, -4.5, -4.0, -3.5, -3.0, -2.5, -2.0, -1.5, -1.0, -0.5, 0.0, 0.5, 1.0, 1.5, 2.0, 2.5]\n",
      "Fdegrees =  [23.0, 23.9, 24.8, 25.7, 26.6, 27.5, 28.4, 29.3, 30.2, 31.1, 32.0, 32.9, 33.8, 34.7, 35.6, 36.5]\n"
     ]
    }
   ],
   "source": [
    "n = 16\n",
    "Cdegrees = [-5 + i*0.5 for i in range(n)]\n",
    "Fdegrees = [(9.0/5)*C + 32 for C in Cdegrees]\n",
    "print(\"Cdegrees = \", Cdegrees)\n",
    "print(\"Fdegrees = \", Fdegrees)"
   ]
  },
  {
   "cell_type": "markdown",
   "metadata": {
    "slideshow": {
     "slide_type": "subslide"
    }
   },
   "source": [
    "The general form of a list comprehension is:\n",
    "```\n",
    "somelist = [expression for element in somelist]\n",
    "```"
   ]
  },
  {
   "cell_type": "markdown",
   "metadata": {
    "nbpresent": {
     "id": "f2af93fa-2e4b-46f7-b762-cf6df11749f8"
    },
    "slideshow": {
     "slide_type": "slide"
    }
   },
   "source": [
    "### Changing elements in a list\n",
    "Say we want to add $2$ to all the numbers in a list:"
   ]
  },
  {
   "cell_type": "code",
   "execution_count": 42,
   "metadata": {
    "nbpresent": {
     "id": "4f4e8e71-aebe-4191-9f6f-f456945d3e9f"
    },
    "slideshow": {
     "slide_type": "fragment"
    }
   },
   "outputs": [
    {
     "name": "stdout",
     "output_type": "stream",
     "text": [
      "[-1, 1, 10]\n"
     ]
    }
   ],
   "source": [
    "v = [-1, 1, 10]\n",
    "for e in v:\n",
    "    e=e+2\n",
    "print(v)"
   ]
  },
  {
   "cell_type": "markdown",
   "metadata": {
    "nbpresent": {
     "id": "1e66489c-88c3-4112-b9d1-37eb8b1970a3"
    },
    "slideshow": {
     "slide_type": "subslide"
    }
   },
   "source": [
    "We can see that the list `v` is unaltered! The reason for this is that inside the loop, `e` is an independent python variable which is set to the subsequent entries of the list `v` in each iteration. Changing `e` does not change the corresponding entry in the list.\n",
    "\n",
    "If we want to change an entry of `v` we have to use an index to access and modify its elements:"
   ]
  },
  {
   "cell_type": "code",
   "execution_count": 43,
   "metadata": {
    "nbpresent": {
     "id": "06618fed-61ff-443d-b1f2-0777a4719338"
    },
    "slideshow": {
     "slide_type": "fragment"
    }
   },
   "outputs": [
    {
     "name": "stdout",
     "output_type": "stream",
     "text": [
      "[-1, 4, 10]\n"
     ]
    }
   ],
   "source": [
    "v[1] = 4 # assign 4 to 2nd element (index 1) in v\n",
    "print(v)"
   ]
  },
  {
   "cell_type": "markdown",
   "metadata": {
    "nbpresent": {
     "id": "7ede01a3-9bb3-4a8a-9aa0-a31f76e8b424"
    },
    "slideshow": {
     "slide_type": "subslide"
    }
   },
   "source": [
    "To add 2 to all values we need a *for* loop over indices:"
   ]
  },
  {
   "cell_type": "code",
   "execution_count": 44,
   "metadata": {
    "nbpresent": {
     "id": "0358d409-1512-43e9-a94b-147ca8d61701"
    },
    "slideshow": {
     "slide_type": "fragment"
    }
   },
   "outputs": [
    {
     "name": "stdout",
     "output_type": "stream",
     "text": [
      "[1, 6, 12]\n"
     ]
    }
   ],
   "source": [
    "for i in range(len(v)):\n",
    "    v[i] = v[i] + 2\n",
    "print(v)"
   ]
  },
  {
   "cell_type": "markdown",
   "metadata": {
    "nbpresent": {
     "id": "8ab146b4-7ec7-45b3-88a4-49860f5b6cc6"
    },
    "slideshow": {
     "slide_type": "slide"
    }
   },
   "source": [
    "### Nested lists: list of lists\n",
    "A *list* can contain **any** object, including another *list*. To illustrate this, consider how to store the conversion table as a single Python list rather than two separate lists."
   ]
  },
  {
   "cell_type": "code",
   "execution_count": 45,
   "metadata": {
    "nbpresent": {
     "id": "a6fcd4d1-9f61-4b3b-8ec3-12843952ec20"
    },
    "slideshow": {
     "slide_type": "fragment"
    }
   },
   "outputs": [
    {
     "name": "stdout",
     "output_type": "stream",
     "text": [
      "table1 =  [range(-20, 41, 5), [-4.0, 5.0, 14.0, 23.0, 32.0, 41.0, 50.0, 59.0, 68.0, 77.0, 86.0, 95.0, 104.0]]\n",
      "table1[0] =  range(-20, 41, 5)\n",
      "table1[1] =  [-4.0, 5.0, 14.0, 23.0, 32.0, 41.0, 50.0, 59.0, 68.0, 77.0, 86.0, 95.0, 104.0]\n",
      "table1[1][3] =  23.0\n"
     ]
    }
   ],
   "source": [
    "Cdegrees = range(-20, 41, 5)\n",
    "Fdegrees = [(9.0/5)*C + 32 for C in Cdegrees]\n",
    "table1 = [Cdegrees, Fdegrees]  # List of two lists\n",
    "print(\"table1 = \", table1)\n",
    "print(\"table1[0] = \", table1[0])\n",
    "print(\"table1[1] = \", table1[1])\n",
    "print(\"table1[1][3] = \", table1[1][3])"
   ]
  },
  {
   "cell_type": "markdown",
   "metadata": {
    "nbpresent": {
     "id": "89a35110-151d-4836-8dde-76da53991134"
    },
    "slideshow": {
     "slide_type": "subslide"
    }
   },
   "source": [
    "This gives us a table of two rows. How do we create a table of columns instead:"
   ]
  },
  {
   "cell_type": "code",
   "execution_count": 46,
   "metadata": {
    "nbpresent": {
     "id": "950a8775-cf1b-4b7b-a571-b79406b0f1e5"
    },
    "slideshow": {
     "slide_type": "fragment"
    }
   },
   "outputs": [
    {
     "name": "stdout",
     "output_type": "stream",
     "text": [
      "[[-20, -4.0], [-15, 5.0], [-10, 14.0], [-5, 23.0], [0, 32.0], [5, 41.0], [10, 50.0], [15, 59.0], [20, 68.0], [25, 77.0], [30, 86.0], [35, 95.0], [40, 104.0]]\n"
     ]
    }
   ],
   "source": [
    "table2 = []\n",
    "for C, F in zip(Cdegrees, Fdegrees):\n",
    "    row = [C, F]\n",
    "    table2.append(row)\n",
    "print(table2)"
   ]
  },
  {
   "cell_type": "markdown",
   "metadata": {
    "nbpresent": {
     "id": "51044f5c-75c9-4bdc-be04-0c8953317416"
    },
    "slideshow": {
     "slide_type": "subslide"
    }
   },
   "source": [
    "We can use list comprehension to do this more elegantly using `zip`:"
   ]
  },
  {
   "cell_type": "code",
   "execution_count": 47,
   "metadata": {
    "nbpresent": {
     "id": "c747c897-af59-46a2-b52f-de9dcd1b7762"
    },
    "slideshow": {
     "slide_type": "fragment"
    }
   },
   "outputs": [
    {
     "name": "stdout",
     "output_type": "stream",
     "text": [
      "[[-20, -4.0], [-15, 5.0], [-10, 14.0], [-5, 23.0], [0, 32.0], [5, 41.0], [10, 50.0], [15, 59.0], [20, 68.0], [25, 77.0], [30, 86.0], [35, 95.0], [40, 104.0]]\n"
     ]
    }
   ],
   "source": [
    "table2 = [[C, F] for C, F in zip(Cdegrees, Fdegrees)]\n",
    "print(table2)"
   ]
  },
  {
   "cell_type": "markdown",
   "metadata": {
    "nbpresent": {
     "id": "b7dd1233-53f8-43ed-ba94-fbca4f4def19"
    },
    "slideshow": {
     "slide_type": "subslide"
    }
   },
   "source": [
    "And you can loop through this list as before:"
   ]
  },
  {
   "cell_type": "code",
   "execution_count": 48,
   "metadata": {
    "nbpresent": {
     "id": "3eeeb7bf-67f7-49bc-88a3-11ccff9a3a6d"
    },
    "slideshow": {
     "slide_type": "fragment"
    }
   },
   "outputs": [
    {
     "name": "stdout",
     "output_type": "stream",
     "text": [
      "-20 -4.0\n",
      "-15 5.0\n",
      "-10 14.0\n",
      "-5 23.0\n",
      "0 32.0\n",
      "5 41.0\n",
      "10 50.0\n",
      "15 59.0\n",
      "20 68.0\n",
      "25 77.0\n",
      "30 86.0\n",
      "35 95.0\n",
      "40 104.0\n"
     ]
    }
   ],
   "source": [
    "for C, F in table2:\n",
    "    print(C, F)"
   ]
  },
  {
   "cell_type": "markdown",
   "metadata": {
    "nbpresent": {
     "id": "0fc837cc-fdec-435c-8ccf-a22a7a743a0d"
    },
    "slideshow": {
     "slide_type": "slide"
    }
   },
   "source": [
    "### Tuples: lists that cannot be changed\n",
    "Tuples are **constant** lists, i.e. you can use them in much the same way as lists except you cannot modify them. They are an example of an [**immutable**](http://en.wikipedia.org/wiki/Immutable_object) type."
   ]
  },
  {
   "cell_type": "code",
   "execution_count": 49,
   "metadata": {
    "nbpresent": {
     "id": "0095674c-61c3-4972-a8dd-47a223010482"
    },
    "slideshow": {
     "slide_type": "fragment"
    }
   },
   "outputs": [],
   "source": [
    "t = (2, 4, 6, 'temp.pdf')               # Define a tuple.\n",
    "t =  2, 4, 6, 'temp.pdf'                # Can skip parenthesis as it is assumed in this context."
   ]
  },
  {
   "cell_type": "markdown",
   "metadata": {
    "nbpresent": {
     "id": "fde43ef7-d6f0-4e00-93c6-0d1df9df3854"
    },
    "slideshow": {
     "slide_type": "subslide"
    }
   },
   "source": [
    "So, why would we use tuples when lists have more functionality?\n",
    "\n",
    "* Tuples are constant and thus protected against accidental changes.\n",
    "* Tuples are faster than lists.\n",
    "* Tuples are widely used in Python software (so you need to know about tuples to understand other people's code!)\n",
    "* Tuples (but not lists) can be used as keys in dictionaries (more about dictionaries later)."
   ]
  },
  {
   "cell_type": "markdown",
   "metadata": {
    "nbpresent": {
     "id": "e5c7ed02-153d-409a-a595-93528696a35e"
    },
    "slideshow": {
     "slide_type": "slide"
    }
   },
   "source": [
    "### The *if* construct\n",
    "Consider this simple example:"
   ]
  },
  {
   "cell_type": "code",
   "execution_count": 50,
   "metadata": {
    "nbpresent": {
     "id": "b3ce7c44-884a-4602-94b1-e647ddf5ac88"
    },
    "slideshow": {
     "slide_type": "fragment"
    }
   },
   "outputs": [
    {
     "name": "stdout",
     "output_type": "stream",
     "text": [
      "0 1.0 0\n"
     ]
    }
   ],
   "source": [
    "from math import sin, pi\n",
    "\n",
    "def f(x):\n",
    "    if 0 <= x <= pi:\n",
    "        return sin(x)\n",
    "    else:\n",
    "        return 0\n",
    "print(f(-pi/2), f(pi/2), f(3*pi/2))"
   ]
  },
  {
   "cell_type": "markdown",
   "metadata": {
    "nbpresent": {
     "id": "3abe0d4c-8b40-4710-8198-c60707fe67a5"
    },
    "slideshow": {
     "slide_type": "subslide"
    }
   },
   "source": [
    "Sometimes it is clearer to write this as an *inline* statement:"
   ]
  },
  {
   "cell_type": "code",
   "execution_count": 51,
   "metadata": {
    "nbpresent": {
     "id": "1f47e475-25a2-4a5b-89dd-7f66d2f4b30f"
    },
    "slideshow": {
     "slide_type": "fragment"
    }
   },
   "outputs": [
    {
     "name": "stdout",
     "output_type": "stream",
     "text": [
      "0 1.0 0\n"
     ]
    }
   ],
   "source": [
    "def f(x):\n",
    "    return (sin(x) if 0 <= x <= pi else 0)\n",
    "print(f(-pi/2), f(pi/2), f(3*pi/2))"
   ]
  },
  {
   "cell_type": "markdown",
   "metadata": {
    "nbpresent": {
     "id": "8f2b5db4-b6d4-460e-a902-a8cbc99fef87"
    },
    "slideshow": {
     "slide_type": "subslide"
    }
   },
   "source": [
    "We can put together multiple conditions. Only the first condition that is True is executed. The *else* block can be skipped if there are no statements to be executed when False.\n",
    "\n",
    "```\n",
    "if condition1:\n",
    "    <block of statements, executed if condition1 is True>\n",
    "elif condition2:\n",
    "    <block of statements>\n",
    "elif condition3:\n",
    "    <block of statements>\n",
    "else:\n",
    "    <block of statements>\n",
    "    \n",
    "<next statement of the program>\n",
    "```"
   ]
  },
  {
   "cell_type": "markdown",
   "metadata": {
    "slideshow": {
     "slide_type": "slide"
    }
   },
   "source": [
    "### Vectors and arrays\n",
    "\n",
    "You have known **vectors** since high school mathematics, *e.g.*, point $(x,y)$ in the plane, point $(x,y,z)$ in space. In general, we can describe a vector $v$ as an $n$-tuple of numbers: $v=(v_0,\\ldots,v_{n-1})$. One way to store vectors in Python is by using *lists*: $v_i$ is stored as *v[i]*."
   ]
  },
  {
   "cell_type": "markdown",
   "metadata": {
    "slideshow": {
     "slide_type": "subslide"
    }
   },
   "source": [
    "**Arrays** are a generalization of vectors where we can have multiple indices: $A_{i,j}$, $A_{i,j,k}$. In Python code this is represented as a nested list (see earlier), accessed as ```A[i][j]```, ```A[i][j][k]```.\n",
    "\n",
    "Example: table of numbers, one index for the row, one for the column\n",
    "$$\n",
    "\\left\\lbrack\\begin{array}{cccc}\n",
    "0 & 12 & -1 & 5 \\cr\n",
    "-1 & -1 & -1 & 0\\cr\n",
    "11 & 5 & 5 & -2\n",
    "\\end{array}\\right\\rbrack\n",
    "\\hspace{1cm}\n",
    "A =\n",
    "\\left\\lbrack\\begin{array}{ccc}\n",
    "A_{0,0} & \\cdots &  A_{0,n-1}\\cr\n",
    "\\vdots & \\ddots &  \\vdots\\cr\n",
    "A_{m-1,0} & \\cdots & A_{m-1,n-1}\n",
    "\\end{array}\\right\\rbrack\n",
    "$$\n",
    "The number of indices in an array is the *rank* or *number of dimensions*. Using these terms, a vector can be described as a one-dimensional array, or rank 1 array."
   ]
  },
  {
   "cell_type": "markdown",
   "metadata": {
    "slideshow": {
     "slide_type": "subslide"
    }
   },
   "source": [
    "In practice, we use [Numerical Python (*NumPy*)](http://www.numpy.org/) arrays instead of lists to represent mathematical arrays because it is **much** faster for large arrays.\n",
    "\n",
    "Let's consider an example where we store $(x,y)$ points along a curve in Python lists and numpy arrays:"
   ]
  },
  {
   "cell_type": "code",
   "execution_count": 52,
   "metadata": {
    "slideshow": {
     "slide_type": "subslide"
    }
   },
   "outputs": [],
   "source": [
    "# Sample function\n",
    "def f(x):\n",
    "    return x**3\n",
    "\n",
    "# Generate n points in [0,1]\n",
    "n = 5\n",
    "dx = 1.0/(n-1) # x spacing\n",
    "\n",
    "X = [i*dx for i in range(n)] # Python lists\n",
    "Y = [f(x) for x in X]\n",
    "\n",
    "# Turn these Python lists into Numerical Python (NumPy) arrays:\n",
    "import numpy as np\n",
    "x2 = np.array(X)\n",
    "y2 = np.array(Y)"
   ]
  },
  {
   "cell_type": "markdown",
   "metadata": {
    "slideshow": {
     "slide_type": "subslide"
    }
   },
   "source": [
    "Instead of first making lists with $x$ and $y = f (x)$ data, and then turning lists into arrays, we can make NumPy arrays\n",
    "directly:"
   ]
  },
  {
   "cell_type": "code",
   "execution_count": 53,
   "metadata": {
    "slideshow": {
     "slide_type": "fragment"
    }
   },
   "outputs": [],
   "source": [
    "n = 5                     # number of points\n",
    "x2 = np.linspace(0, 1, n)    # generates n points between 0 and 1\n",
    "y2 = np.zeros(n)             # n zeros (float data type by default)\n",
    "for i in range(n):     \n",
    "    y2[i] = f(x2[i])"
   ]
  },
  {
   "cell_type": "markdown",
   "metadata": {
    "slideshow": {
     "slide_type": "subslide"
    }
   },
   "source": [
    "List comprehensions create lists, not arrays, but we can do:"
   ]
  },
  {
   "cell_type": "code",
   "execution_count": 54,
   "metadata": {
    "slideshow": {
     "slide_type": "fragment"
    }
   },
   "outputs": [],
   "source": [
    "y2 = np.array([f(xi) for xi in x2]) # list -> array"
   ]
  },
  {
   "cell_type": "markdown",
   "metadata": {
    "slideshow": {
     "slide_type": "slide"
    }
   },
   "source": [
    "### When and where to use NumPy arrays\n",
    "\n",
    "* Python lists can hold any sequence of any Python objects, however, NumPy arrays can only hold objects of the same type.\n",
    "* Arrays are most efficient when the elements are of basic number types (*float*, *int*, *complex*).\n",
    "* In that case, arrays are stored efficiently in the computer's memory and we can compute very efficiently with the array elements.\n",
    "* Mathematical operations on whole arrays can be done without loops in Python. For example,"
   ]
  },
  {
   "cell_type": "code",
   "execution_count": 55,
   "metadata": {
    "slideshow": {
     "slide_type": "subslide"
    }
   },
   "outputs": [],
   "source": [
    "import math\n",
    "\n",
    "x = np.linspace(0, 2, 10001)\n",
    "y = np.zeros(10001)\n",
    "for i in range(len(x)):\n",
    "    y[i] = math.sin(x[i])"
   ]
  },
  {
   "cell_type": "markdown",
   "metadata": {
    "slideshow": {
     "slide_type": "fragment"
    }
   },
   "source": [
    "can be coded as"
   ]
  },
  {
   "cell_type": "code",
   "execution_count": 56,
   "metadata": {
    "slideshow": {
     "slide_type": "fragment"
    }
   },
   "outputs": [],
   "source": [
    "y = np.sin(x)"
   ]
  },
  {
   "cell_type": "markdown",
   "metadata": {
    "slideshow": {
     "slide_type": "subslide"
    }
   },
   "source": [
    "In the latter case the loop over all elements is now performed in a very efficient C function.\n",
    "\n",
    "Operations on whole arrays, instead of using Python *for*-loops, is called vectorization and is a very **convenient**, **efficient** and therefore important programming technique to master."
   ]
  },
  {
   "cell_type": "markdown",
   "metadata": {
    "slideshow": {
     "slide_type": "subslide"
    }
   },
   "source": [
    "Let's consider a simple vectorization example: a loop to compute $x$ coordinates (*x2*) and $y=f(x)$ coordinates (*y2*) along a function curve:"
   ]
  },
  {
   "cell_type": "code",
   "execution_count": 57,
   "metadata": {
    "slideshow": {
     "slide_type": "fragment"
    }
   },
   "outputs": [],
   "source": [
    "x2 = np.linspace(0, 1, n)\n",
    "y2 = np.zeros(n)\n",
    "for i in range(n):\n",
    "    y2[i] = f(x2[i])"
   ]
  },
  {
   "cell_type": "markdown",
   "metadata": {
    "slideshow": {
     "slide_type": "fragment"
    }
   },
   "source": [
    "This computation can be replaced by:"
   ]
  },
  {
   "cell_type": "code",
   "execution_count": 58,
   "metadata": {
    "slideshow": {
     "slide_type": "fragment"
    }
   },
   "outputs": [],
   "source": [
    "x2 = np.linspace(0, 1, n)\n",
    "y2 = f(x2)"
   ]
  },
  {
   "cell_type": "markdown",
   "metadata": {
    "slideshow": {
     "slide_type": "subslide"
    }
   },
   "source": [
    "The advantage of this approach is:\n",
    "\n",
    "* There is no need to allocate space for y2 (via the NumPy *zeros* function).\n",
    "* There is no need for a loop.\n",
    "* It is *much* faster.\n",
    "* It is easier to read."
   ]
  },
  {
   "cell_type": "markdown",
   "metadata": {
    "slideshow": {
     "slide_type": "subslide"
    }
   },
   "source": [
    "### Vectorisation\n",
    "Let us look again at the function we defined above"
   ]
  },
  {
   "cell_type": "code",
   "execution_count": 59,
   "metadata": {
    "slideshow": {
     "slide_type": "fragment"
    }
   },
   "outputs": [],
   "source": [
    "def f(x):\n",
    "    return x**3"
   ]
  },
  {
   "cell_type": "markdown",
   "metadata": {
    "slideshow": {
     "slide_type": "subslide"
    }
   },
   "source": [
    "Our function `f(x)` was intended for a number `x` (an int or a float), *i.e.* a *scalar*. So what happened when we call `f(x2)`, where `x2` is a NumPy array? Due to the flexibility of python (no type checking) we are indeed allowed to pass an array instead of a float. Inside the function `x` now refers to the entire array that we have passed. When we get to evaluate `x**3`, the numpy array `x` knows how to evaluate its third power by simply evaluating it for each entry. NumPy supports a number of arithmetic operations on arrays, which correspond to the equivalent operations on each element, *e.g.*:"
   ]
  },
  {
   "cell_type": "code",
   "execution_count": 60,
   "metadata": {
    "slideshow": {
     "slide_type": "fragment"
    }
   },
   "outputs": [
    {
     "data": {
      "text/plain": [
       "array([0.00000000e+00, 6.66600003e-05, 1.33306669e-04, ...,\n",
       "       2.45252956e-01, 2.45252960e-01, 2.45252961e-01])"
      ]
     },
     "execution_count": 60,
     "metadata": {},
     "output_type": "execute_result"
    }
   ],
   "source": [
    "x**3                   # x[i]**3 for all i\n",
    "np.cos(x)              # cos(x[i]) for all i\n",
    "x**3 + x*np.cos(x)     # x[i]**3 + x[i]*cos(x[i]) for all i\n",
    "x/3*np.exp(-x*0.5)     # x[i]/3*exp(-x[i]*0.5) for all i "
   ]
  },
  {
   "cell_type": "markdown",
   "metadata": {
    "slideshow": {
     "slide_type": "subslide"
    }
   },
   "source": [
    "In each of these cases a highly optimised C function is actually called to evaluate the expression. In this example, the *cos* function called for an *array* is imported from *numpy* rather than from the *math* module which only acts on scalars.\n",
    "\n",
    "Notes:\n",
    "\n",
    "* Functions that can operate on arrays are called **vectorized functions**.\n",
    "* Vectorization is the process of turning a non-vectorized expression/algorithm into a vectorized expression/algorithm.\n",
    "* Mathematical functions in Python automatically work for both scalar and array (vector) arguments, *i.e.* no vectorization is needed by the programmer.\n",
    "* We can easily write our own vectorized function, like our function `f(x)`, if we only perform the standard arithmetic operations, and already vectorized numpy functions like `np.cos`, `np.exp`, etc., on the argument `x`."
   ]
  },
  {
   "cell_type": "markdown",
   "metadata": {
    "slideshow": {
     "slide_type": "slide"
    }
   },
   "source": [
    "### Watch out for references vs. copies of arrays!\n",
    "Consider this code:"
   ]
  },
  {
   "cell_type": "code",
   "execution_count": 61,
   "metadata": {
    "slideshow": {
     "slide_type": "fragment"
    }
   },
   "outputs": [
    {
     "name": "stdout",
     "output_type": "stream",
     "text": [
      "42.0\n"
     ]
    }
   ],
   "source": [
    "a=x\n",
    "a[-1] = 42\n",
    "print(x[-1])"
   ]
  },
  {
   "cell_type": "markdown",
   "metadata": {
    "slideshow": {
     "slide_type": "subslide"
    }
   },
   "source": [
    "Notice what happened here - we changed a value in `a` but the corresponding value in `x` was also changed! This is because `a` refers to the same array as `x`. If you really want a separate copy of `x` then we have to make an explicit copy:"
   ]
  },
  {
   "cell_type": "code",
   "execution_count": 62,
   "metadata": {
    "slideshow": {
     "slide_type": "fragment"
    }
   },
   "outputs": [],
   "source": [
    "a = x.copy()"
   ]
  },
  {
   "cell_type": "markdown",
   "metadata": {
    "slideshow": {
     "slide_type": "slide"
    }
   },
   "source": [
    "### Generalised array indexing\n",
    "We can select a slice of an array using *a[start:stop:inc]*, where the slice *start:stop:inc* implies a set of indices starting from *start*, up to *stop* in increments of *inc*. In fact, any integer list or array can be used to indicate a set of indices:"
   ]
  },
  {
   "cell_type": "code",
   "execution_count": 63,
   "metadata": {
    "slideshow": {
     "slide_type": "fragment"
    }
   },
   "outputs": [
    {
     "name": "stdout",
     "output_type": "stream",
     "text": [
      "[1. 2. 3. 4. 5. 6. 7. 8.]\n"
     ]
    }
   ],
   "source": [
    "a = np.linspace(1, 8, 8)\n",
    "print(a)"
   ]
  },
  {
   "cell_type": "code",
   "execution_count": 64,
   "metadata": {
    "slideshow": {
     "slide_type": "subslide"
    }
   },
   "outputs": [
    {
     "name": "stdout",
     "output_type": "stream",
     "text": [
      "[ 1. 10.  3.  4.  5.  6. 10. 10.]\n"
     ]
    }
   ],
   "source": [
    "a[[1,6,7]] = 10 # i.e. set the elements with indices 1,6, and 7 in the list to 10.\n",
    "print(a)"
   ]
  },
  {
   "cell_type": "code",
   "execution_count": 65,
   "metadata": {
    "slideshow": {
     "slide_type": "fragment"
    }
   },
   "outputs": [
    {
     "name": "stdout",
     "output_type": "stream",
     "text": [
      "[ 1. 10. -2.  4.  5. -2. 10. 10.]\n"
     ]
    }
   ],
   "source": [
    "a[range(2,8,3)] = -2   # same as a[2:8:3] = -2\n",
    "print(a)"
   ]
  },
  {
   "cell_type": "markdown",
   "metadata": {
    "slideshow": {
     "slide_type": "subslide"
    }
   },
   "source": [
    "Even boolean expressions can also be used to select part of an array(!)"
   ]
  },
  {
   "cell_type": "code",
   "execution_count": 66,
   "metadata": {
    "slideshow": {
     "slide_type": "fragment"
    }
   },
   "outputs": [
    {
     "name": "stdout",
     "output_type": "stream",
     "text": [
      "[-2. -2.]\n"
     ]
    }
   ],
   "source": [
    "print(a[a < 0]) # pick out all negative elements"
   ]
  },
  {
   "cell_type": "code",
   "execution_count": 67,
   "metadata": {
    "slideshow": {
     "slide_type": "fragment"
    }
   },
   "outputs": [
    {
     "name": "stdout",
     "output_type": "stream",
     "text": [
      "[ 1. 10. 10.  4.  5. 10. 10. 10.]\n"
     ]
    }
   ],
   "source": [
    "a[a < 0] = a.max() # if a[i]<0, set a[i]=10\n",
    "print(a)"
   ]
  },
  {
   "cell_type": "markdown",
   "metadata": {
    "slideshow": {
     "slide_type": "slide"
    }
   },
   "source": [
    "### 2D arrays\n",
    "When we have a table of numbers,\n",
    "\n",
    "$$\n",
    "\\left\\lbrack\\begin{array}{cccc}\n",
    "0 & 12 & -1 & 5\\cr\n",
    "-1 & -1 & -1 & 0\\cr\n",
    "11 & 5 & 5 & -2\n",
    "\\end{array}\\right\\rbrack\n",
    "$$\n",
    "\n",
    "(*i.e.* a *matrix*) it is natural to use a two-dimensional array $A_{i,j}$ with one index for the rows and one for the columns:\n",
    "\n",
    "$$\n",
    "A = \n",
    "\\left\\lbrack\\begin{array}{ccc}\n",
    "A_{0,0} & \\cdots &  A_{0,n-1}\\cr\n",
    "\\vdots & \\ddots &  \\vdots\\cr\n",
    "A_{m-1,0} & \\cdots & A_{m-1,n-1}\n",
    "\\end{array}\\right\\rbrack\n",
    "$$\n",
    "\n",
    "Let's recreate this array using NumPy:"
   ]
  },
  {
   "cell_type": "code",
   "execution_count": 68,
   "metadata": {
    "slideshow": {
     "slide_type": "subslide"
    }
   },
   "outputs": [
    {
     "name": "stdout",
     "output_type": "stream",
     "text": [
      "[[ 0. 12. -1.  5.]\n",
      " [-1. -1. -1.  0.]\n",
      " [11.  5.  5. -2.]]\n"
     ]
    }
   ],
   "source": [
    "A = np.zeros((3,4))\n",
    "A[0,0] = 0\n",
    "A[1,0] = -1\n",
    "A[2,0] = 11\n",
    "\n",
    "A[0,1] = 12\n",
    "A[1,1] = -1\n",
    "A[2,1] = 5\n",
    "\n",
    "A[0,2] = -1\n",
    "A[1,2] = -1\n",
    "A[2,2] = 5\n",
    "\n",
    "# we can also use the same syntax that we used for nested lists\n",
    "\n",
    "A[0][3] = 5\n",
    "A[1][3] = 0\n",
    "A[2][3] = -2\n",
    "\n",
    "print(A)"
   ]
  },
  {
   "cell_type": "markdown",
   "metadata": {
    "slideshow": {
     "slide_type": "subslide"
    }
   },
   "source": [
    "Next let's convert a nested list from a previous example into a 2D array:"
   ]
  },
  {
   "cell_type": "code",
   "execution_count": 69,
   "metadata": {
    "slideshow": {
     "slide_type": "fragment"
    }
   },
   "outputs": [
    {
     "name": "stdout",
     "output_type": "stream",
     "text": [
      "[[0, 32.0], [10, 50.0], [20, 68.0], [30, 86.0], [40, 104.0], [50, 122.0], [60, 140.0], [70, 158.0], [80, 176.0], [90, 194.0], [100, 212.0]]\n"
     ]
    }
   ],
   "source": [
    "Cdegrees = range(0, 101, 10)\n",
    "Fdegrees = [9./5*C + 32 for C in Cdegrees]\n",
    "table = [[C, F] for C, F in zip(Cdegrees, Fdegrees)]\n",
    "print(table)"
   ]
  },
  {
   "cell_type": "code",
   "execution_count": 70,
   "metadata": {
    "slideshow": {
     "slide_type": "subslide"
    }
   },
   "outputs": [
    {
     "name": "stdout",
     "output_type": "stream",
     "text": [
      "[[  0.  32.]\n",
      " [ 10.  50.]\n",
      " [ 20.  68.]\n",
      " [ 30.  86.]\n",
      " [ 40. 104.]\n",
      " [ 50. 122.]\n",
      " [ 60. 140.]\n",
      " [ 70. 158.]\n",
      " [ 80. 176.]\n",
      " [ 90. 194.]\n",
      " [100. 212.]]\n"
     ]
    }
   ],
   "source": [
    "# Convert this into a NumPy array:\n",
    "table2 = np.array(table)\n",
    "print(table2)"
   ]
  },
  {
   "cell_type": "markdown",
   "metadata": {
    "slideshow": {
     "slide_type": "subslide"
    }
   },
   "source": [
    "To see the number of elements in each dimension:"
   ]
  },
  {
   "cell_type": "code",
   "execution_count": 71,
   "metadata": {
    "slideshow": {
     "slide_type": "fragment"
    }
   },
   "outputs": [
    {
     "name": "stdout",
     "output_type": "stream",
     "text": [
      "(11, 2)\n"
     ]
    }
   ],
   "source": [
    "print(table2.shape)"
   ]
  },
  {
   "cell_type": "markdown",
   "metadata": {
    "slideshow": {
     "slide_type": "fragment"
    }
   },
   "source": [
    "*i.e.* 11 rows and 2 columns."
   ]
  },
  {
   "cell_type": "markdown",
   "metadata": {},
   "source": [
    "When looping over a 2D array, the rows of the matrices are extracted one by (similar to if it were a list of lists). To loop over all elements of the 2D array, we can then nest another loop that loops over the entries of each row:"
   ]
  },
  {
   "cell_type": "code",
   "execution_count": 72,
   "metadata": {},
   "outputs": [
    {
     "name": "stdout",
     "output_type": "stream",
     "text": [
      "Row [ 0. 12. -1.  5.] which has sum 16.000000\n",
      "Row [-1. -1. -1.  0.] which has sum -3.000000\n",
      "Row [11.  5.  5. -2.] which has sum 19.000000\n"
     ]
    }
   ],
   "source": [
    "for Ai in A:\n",
    "    rowsum = 0.\n",
    "    for Aij in Ai:\n",
    "        rowsum += Aij\n",
    "    print('Row %s which has sum %f' % (Ai, rowsum))"
   ]
  },
  {
   "cell_type": "markdown",
   "metadata": {
    "slideshow": {
     "slide_type": "subslide"
    }
   },
   "source": [
    "We can also extract slices from multi-dimensional arrays as before. For example, extract the second column:"
   ]
  },
  {
   "cell_type": "code",
   "execution_count": 73,
   "metadata": {
    "slideshow": {
     "slide_type": "fragment"
    }
   },
   "outputs": [
    {
     "name": "stdout",
     "output_type": "stream",
     "text": [
      "[ 32.  50.  68.  86. 104. 122. 140. 158. 176. 194. 212.]\n"
     ]
    }
   ],
   "source": [
    "print(table2[:, 1]) # 2nd column (index 1)"
   ]
  },
  {
   "cell_type": "markdown",
   "metadata": {
    "slideshow": {
     "slide_type": "subslide"
    }
   },
   "source": [
    "Play with this more complicated example:"
   ]
  },
  {
   "cell_type": "code",
   "execution_count": 74,
   "metadata": {
    "slideshow": {
     "slide_type": "fragment"
    }
   },
   "outputs": [
    {
     "name": "stdout",
     "output_type": "stream",
     "text": [
      "[[ 1.  2.  3.  4.  5.  6.]\n",
      " [ 7.  8.  9. 10. 11. 12.]\n",
      " [13. 14. 15. 16. 17. 18.]\n",
      " [19. 20. 21. 22. 23. 24.]\n",
      " [25. 26. 27. 28. 29. 30.]]\n"
     ]
    }
   ],
   "source": [
    "t = np.linspace(1, 30, 30).reshape(5, 6)\n",
    "print(t)"
   ]
  },
  {
   "cell_type": "code",
   "execution_count": 75,
   "metadata": {
    "slideshow": {
     "slide_type": "fragment"
    }
   },
   "outputs": [
    {
     "name": "stdout",
     "output_type": "stream",
     "text": [
      "[[ 9. 10. 11. 12.]\n",
      " [21. 22. 23. 24.]]\n"
     ]
    }
   ],
   "source": [
    "print(t[1:-1:2, 2:])"
   ]
  },
  {
   "cell_type": "markdown",
   "metadata": {},
   "source": [
    "Here are some further examples of basic NumPy usage, which you are likely to encounter later. Think about what each function does, and look at the [NumPy documentation](https://docs.scipy.org/doc/numpy/reference/) if you're not sure."
   ]
  },
  {
   "cell_type": "code",
   "execution_count": 76,
   "metadata": {},
   "outputs": [
    {
     "name": "stdout",
     "output_type": "stream",
     "text": [
      "[1. 1. 1. 1. 1. 1. 1. 1. 1. 1.]\n",
      "[0. 0. 0. 0. 0. 0. 0. 0. 0. 0.]\n",
      "[ 0.  2.  4.  6.  8. 10. 12. 14. 16. 18. 20.]\n",
      "(array([0, 1, 2]),)\n",
      "0.0\n",
      "[[0. 0. 0. 0. 0.]\n",
      " [0. 2. 0. 0. 0.]\n",
      " [0. 0. 4. 0. 0.]\n",
      " [0. 0. 0. 6. 0.]\n",
      " [0. 0. 0. 0. 8.]]\n"
     ]
    }
   ],
   "source": [
    "print(np.ones(10))\n",
    "\n",
    "print(np.zeros(10))\n",
    "\n",
    "a = np.linspace(0, 20, 11)\n",
    "print(a)\n",
    "\n",
    "print(np.where(a<5))\n",
    "\n",
    "print(np.min(a))\n",
    "\n",
    "print(np.diag(a[:5]))"
   ]
  },
  {
   "cell_type": "markdown",
   "metadata": {},
   "source": [
    "### Plotting curves - the basics\n",
    "\n",
    "If you have programmed in Python before, or indeed when you start looking at coding examples online, you will notice that there are a few different modules that you can import to enable you to accomplish more or less the same objective. The three most common are [Matplotlib](https://matplotlib.org/index.html), [PyPlot](https://matplotlib.org/api/pyplot_api.html), and PyLab. We will leave it to you to read the [official documentation to see how these three are related](https://matplotlib.org/faq/usage_faq.html#matplotlib-pyplot-and-pylab-how-are-they-related).\n",
    "\n",
    "For this lecture series we will be importing matplotlib.pyplot as plt so that it is always clear where each function call is coming from. Lets start with a simple example by plotting the function $y = f(x)$."
   ]
  },
  {
   "cell_type": "code",
   "execution_count": 77,
   "metadata": {},
   "outputs": [
    {
     "data": {
      "text/plain": [
       "<Figure size 640x480 with 1 Axes>"
      ]
     },
     "metadata": {},
     "output_type": "display_data"
    }
   ],
   "source": [
    "import matplotlib.pyplot as plt\n",
    "import numpy as np\n",
    "\n",
    "t = np.linspace(0, 3, 51)\n",
    "y = t**2*np.exp(-t**2)\n",
    "plt.plot(t, y)\n",
    "plt.show()"
   ]
  },
  {
   "cell_type": "markdown",
   "metadata": {},
   "source": [
    "Plots also should have **labels** on the axis, a **title**, and sometimes a specific extent of the axis (perhaps you wish to easily compare two graphs side-by-side):"
   ]
  },
  {
   "cell_type": "code",
   "execution_count": 78,
   "metadata": {},
   "outputs": [
    {
     "data": {
      "image/png": "[encoded data removed]",
      "text/plain": [
       "<Figure size 432x288 with 1 Axes>"
      ]
     },
     "metadata": {
      "needs_background": "light"
     },
     "output_type": "display_data"
    }
   ],
   "source": [
    "def f(t):\n",
    "    return t**2*np.exp(-t**2)\n",
    "\n",
    "# Generates 51 points between 0 and 3\n",
    "t = np.linspace(0, 3, 51)\n",
    "y = f(t)\n",
    "plt.plot(t, y)\n",
    "\n",
    "# For added awesomeness you can use Latex syntax.\n",
    "plt.legend(('$t^2\\exp(-t^2)$',))\n",
    "\n",
    "plt.xlabel('$t$')\n",
    "plt.ylabel('$y$')\n",
    "\n",
    "# Specify the extent of the axes [tmin, tmax, ymin, ymax]\n",
    "plt.axis([0, 3, -0.05, 0.6]) \n",
    "\n",
    "plt.title('My second graph')\n",
    "plt.show()"
   ]
  },
  {
   "cell_type": "markdown",
   "metadata": {},
   "source": [
    "### Multiple curves in one plot\n",
    "\n",
    "We can also plot several curves in one plot:"
   ]
  },
  {
   "cell_type": "code",
   "execution_count": 79,
   "metadata": {},
   "outputs": [
    {
     "data": {
      "image/png": "[encoded data removed]",
      "text/plain": [
       "<Figure size 432x288 with 1 Axes>"
      ]
     },
     "metadata": {
      "needs_background": "light"
     },
     "output_type": "display_data"
    }
   ],
   "source": [
    "def f1(t):\n",
    "    return t**2*np.exp(-t**2)\n",
    "\n",
    "def f2(t):\n",
    "    return t**2*f1(t)\n",
    "\n",
    "t = np.linspace(0, 3, 51)\n",
    "y1 = f1(t)\n",
    "y2 = f2(t)\n",
    "\n",
    "# Matlab-style syntax:\n",
    "plots = plt.plot(t, y1, t, y2)\n",
    "plt.legend(plots, ('$t^2\\exp(-t^2)$', '$t^4\\exp(-t^2)$'), loc='best')\n",
    "plt.xlabel('$t$')\n",
    "plt.ylabel('$y$')\n",
    "plt.title('Plotting two curves in the same plot')\n",
    "plt.show()"
   ]
  },
  {
   "cell_type": "markdown",
   "metadata": {},
   "source": [
    "When plotting multiple curves in the same plot, PyLab usually does a good job in making sure that the different lines actually look different. However, sometimes you need to take action yourself (*e.g.* if you need to print your graph out in black & white). To do this we can add an extra argument to the plot command where we specify what we want - *e.g.* \"r-\" means a *red line*, while \"bo\" means *blue circles*:"
   ]
  },
  {
   "cell_type": "code",
   "execution_count": 80,
   "metadata": {},
   "outputs": [
    {
     "data": {
      "image/png": "[encoded data removed]",
      "text/plain": [
       "<Figure size 432x288 with 1 Axes>"
      ]
     },
     "metadata": {
      "needs_background": "light"
     },
     "output_type": "display_data"
    }
   ],
   "source": [
    "plt.plot(t, y1, 'r-', t, y2, 'bo')\n",
    "plt.show()"
   ]
  },
  {
   "cell_type": "markdown",
   "metadata": {},
   "source": [
    "For further examples check out the [matplotlib](https://matplotlib.org/) documentation."
   ]
  },
  {
   "cell_type": "markdown",
   "metadata": {},
   "source": [
    "### Python dictionaries\n",
    "\n",
    "Suppose we need to store the temperatures in Oslo, London and Paris. The Python list solution might look like:"
   ]
  },
  {
   "cell_type": "code",
   "execution_count": 81,
   "metadata": {},
   "outputs": [],
   "source": [
    "temps = [13, 15.4, 17.5]\n",
    "# temps[0]: Oslo\n",
    "# temps[1]: London\n",
    "# temps[2]: Paris"
   ]
  },
  {
   "cell_type": "markdown",
   "metadata": {},
   "source": [
    "In this case we need to remember the mapping between the index and the city name. It would be easier to specify name of city to get the temperature. Containers such as lists and arrays use a continuous series of integers to index elements. However, for many applications such an integer index is not useful.\n",
    "\n",
    "**Dictionaries** are containers where any Python object can be used\n",
    "as an index. Let's rewrite the previous example using a Python dictionary:"
   ]
  },
  {
   "cell_type": "code",
   "execution_count": 82,
   "metadata": {},
   "outputs": [
    {
     "name": "stdout",
     "output_type": "stream",
     "text": [
      "The temperature in London is 15.4\n"
     ]
    }
   ],
   "source": [
    "temps = {\"Oslo\": 13, \"London\": 15.4, \"Paris\": 17.5}\n",
    "print(\"The temperature in London is\", temps[\"London\"])"
   ]
  },
  {
   "cell_type": "markdown",
   "metadata": {},
   "source": [
    "Add a new element to a dictionary:"
   ]
  },
  {
   "cell_type": "code",
   "execution_count": 83,
   "metadata": {},
   "outputs": [
    {
     "name": "stdout",
     "output_type": "stream",
     "text": [
      "{'Oslo': 13, 'London': 15.4, 'Paris': 17.5, 'Madrid': 26.0}\n"
     ]
    }
   ],
   "source": [
    "temps[\"Madrid\"] = 26.0\n",
    "print(temps)"
   ]
  },
  {
   "cell_type": "markdown",
   "metadata": {},
   "source": [
    "## Introduction to the finite element method"
   ]
  },
  {
   "cell_type": "markdown",
   "metadata": {},
   "source": [
    "### Introductory comments\n",
    "    \n",
    "Note that there are numerous ways that the finite element method can be introduced and derived.  \n",
    "\n",
    "A significant subset of these go about this task in a very abstract/mathematical way. \n",
    "\n",
    "Here we will take a more practical perspective, but be warned if you pick up a random textbook it may well go about things in a very different manner. Ultimately though we will end up at the same place."
   ]
  },
  {
   "cell_type": "markdown",
   "metadata": {},
   "source": [
    "### Finite elements vs volumes vs differences\n",
    "\n",
    "The finite element method can be interpreted in a way that sets it somewhat apart from finite difference and finite volume methods.\n",
    "\n",
    "In any numerical method our aim is generally to replace or approximate something that is continuous (infinite dimensional) with something that is discrete (finite dimensional). We need to do this in order to allow us to find the approximation on a finite computer.\n",
    "\n",
    "Whereas FD and FV methods seek to approximate derivatives or fluxes in the underlying *equation* in terms of discrete (i.e. discretised) solution information, the finite element method is a little different - it approximates/discretises the *solution function* and then asks that this solves the *exact* differential equation problem (in a weak sense - we'll explain what this means later). \n",
    "\n",
    "It is this approach (which approximates the solution function and not the underlying equation) that is the reason that (a) the approach can (and is often) explained in quite a theoretical/mathematical way, and (b) there exist many powerful/useful theoretical results on errors, stability etc.\n",
    "\n",
    "The exact solution to a differential equation is a continuous function (that lives in an infinite dimensional space of functions) and which is defined everywhere in space and time (in the case of time-dependent PDEs).\n",
    "\n",
    "To (attempt to) find the exact solution analytically we can take derivatives of candidate solution functions and look for the one which satisfies our underlying PDE (along with boundary and initial conditions as appropriate).\n",
    "\n",
    "What we want to do here is approximate (discretise) this continuous function in a way that it becomes finite-dimensional, but such that it is still differentiable and thus we can ask that it still satisfies our exact differential equation problem (in an appropriate sense to be explained later).\n",
    "\n",
    "Note the difference with FD methods where we look for discrete solution values which satisfy the discretised equation, where we have replaced derivatives with finite difference approximations.\n",
    "\n",
    "A further consequence of this difference in approach is that a finite element solution is defined and is a valid solution everywhere in space, whereas a finite difference solution is only valid at the nodes you have discretised the equation on.\n",
    "\n",
    "This may all sound a little abstract, but hopefully things will become clear as we work through some examples.\n",
    "\n",
    "Rather than diving straight into discretising a differential equation problem, we will start our discussion of the finite element method by first considering ways in which we can approximate/discretise a function (which we will think of as the exact solution to our DE problem)."
   ]
  },
  {
   "cell_type": "markdown",
   "metadata": {},
   "source": [
    "### Approximating a function\n",
    "\n",
    "#### Piecewise-polynomials\n",
    "\n",
    "One way to start a description of the finite element method is to consider how we can approximate functions.\n",
    "\n",
    "Suppose we have a function $f(x)$ and approximate it using a piecewise polynomial approximation\n",
    "\n",
    "$$f_h(x) = \\sum_{i=0}^N \\alpha_i \\phi_i(x). $$\n",
    "\n",
    "$\\alpha_i$ for $i=0,\\,\\ldots, N$ are the finite number of *weights* we need to find. \n",
    "\n",
    "$\\phi_i(x)$ for $i=0,\\,\\ldots, N$ are a finite number of *basis functions* which are generally defined in advance.\n",
    "\n",
    "Note that while $f(x)$ is continuous and potentially very complex (i.e. cannot be defined simply in terms of a finite number of parameters), the approximation $f_h(x)$ is effectively finite-dimensional as it is completely described by the $N+1$ weights. \n",
    "\n",
    "Importantly though, and different to the numerical solutions obtained with finite difference methods, note that the approximation $f_h(x)$ is defined for all values of $x$, i.e. it is continuous in $x$ and we can take the true derivatives (not finite difference approximations of derivatives as we would with the finite difference method).\n",
    "\n",
    "With this form of approximation there are actually a huge number of possibilities for us to proceed.\n",
    "\n",
    "Firstly note that we haven't said anything about the form the basis functions $\\phi_i(x)$ take. \n",
    "\n",
    "One option is for these to be so-called *global*, in that they are defined for all $x$ and are potentially non-zero across the total range of $x$ values, e.g. this would be the case with Fourier series approximations (or in the numerical solution of differential equations this would lead us to so-called *spectral methods*).\n",
    "\n",
    "However, an important aspect of the finite element method is that these basis functions have *finite support*, i.e. they are only non-zero over a limited range of $x$ values (we will see below that this is a property we seek in order to ultimately arrive at a point where we need to solve systems involving sparse rather than dense matrices).\n",
    "\n",
    "In addition, we look for basis functions which are easy to integrate.  The finite element method generally makes use of piecewise polynomial basis functions with finite support.  We'll see some images and examples of these shortly."
   ]
  },
  {
   "cell_type": "markdown",
   "metadata": {},
   "source": [
    "#### Piecewise-polynomial functions - examples\n",
    "\n",
    "The following is an example of a piecewise-linear function.\n",
    "\n",
    "<img src=\"https://upload.wikimedia.org/wikipedia/commons/c/c5/C0_function.svg\" width=300x>\n",
    "*(Figure: https://en.wikipedia.org/wiki/Smoothness;  https://upload.wikimedia.org/wikipedia/commons/c/c5/C0_function.svg)*\n",
    "\n",
    "The term [*piecewise*](https://en.wikipedia.org/wiki/Piecewise) just means that we chop up our domain into subdomains (here two) and define the function here to be linear over each of these subdomains.\n",
    "\n",
    "In this particular example the resulting global function is continuous (the solution within each subdomain is equal at the interface between subdomains), but there is a corner, i.e. the derivative is discontinuous at this interface located at the $x$ origin.\n",
    "\n",
    "This lack of smoothness may or may not be desirable for us.\n",
    "\n",
    "Alternatively, we could allow a situation where the solution within each subdomain do not match at the interface.\n",
    "\n",
    "\n",
    "<img src=\"https://upload.wikimedia.org/wikipedia/commons/c/c0/Upper_semi.svg\" width=300x>\n",
    "*(Figure: https://en.wikipedia.org/wiki/Piecewise;  https://upload.wikimedia.org/wikipedia/commons/c/c0/Upper_semi.svg)*\n",
    "\n",
    "This function can be termed *piecewise continuous*, meaning it is continuous within each subdomain, but can be discontinuous in between these regions. \n",
    "\n",
    "This second example is actually a piecewise-quadratic function, and in this example is discontinuous between the \"pieces\" but looks to have a continuous value of first derivative across the interface. Again, depending on the problem we are solving this may be a desirable property.\n",
    "\n",
    "A key point here is that we have lots of flexibility over the nature of the <a href=\"https://en.wikipedia.org/wiki/Function_(mathematics)\">*functions*</a> that can form our discrete solution.  In the FEM this choice is vital to the stability and accuracy of the resulting numerical solver."
   ]
  },
  {
   "cell_type": "markdown",
   "metadata": {},
   "source": [
    "#### An example\n",
    "\n",
    "To help clarify these ideas let's consider a continuous and relatively complex function:\n",
    "\n",
    "$$ f(x) = \\sin(2\\pi x) + \\frac{3}{10}\\cos(6\\pi x^2).$$\n",
    "\n",
    "First let's plot this over the interval $[0,1]$."
   ]
  },
  {
   "cell_type": "code",
   "execution_count": 84,
   "metadata": {},
   "outputs": [
    {
     "data": {
      "image/png": "[encoded data removed]",
      "text/plain": [
       "<Figure size 576x432 with 1 Axes>"
      ]
     },
     "metadata": {
      "needs_background": "light"
     },
     "output_type": "display_data"
    }
   ],
   "source": [
    "# define our function\n",
    "def f(x):\n",
    "    return np.sin(2*np.pi*x) + 0.3*np.cos(3.*2.*np.pi*x**2)\n",
    "\n",
    "# define a finely spaced set of x points for plotting purposes\n",
    "x_fine = np.linspace(0. ,1. ,100)\n",
    "\n",
    "# set up figure, title and axis labels\n",
    "fig = plt.figure(figsize=(8, 6))\n",
    "ax1 = fig.add_subplot(111)\n",
    "ax1.set_xlabel('$x$', fontsize=16)\n",
    "ax1.set_ylabel('$f(x)$', fontsize=16)\n",
    "ax1.set_title('Function approximation', fontsize=16)\n",
    "\n",
    "# plot the function\n",
    "ax1.plot(x_fine, f(x_fine), 'k-', label = 'exact')\n",
    "\n",
    "# add a legend\n",
    "ax1.legend(loc='best', fontsize=16);"
   ]
  },
  {
   "cell_type": "markdown",
   "metadata": {},
   "source": [
    "#### Interpolation of a function (Lagrange polynomial - a reminder)\n",
    "\n",
    "Perhaps the obvious way to approximate this with a sum over piecewise polynomials is to construct the piecewise linear interpolant.\n",
    "\n",
    "We take a finite number of sample points (we assume 4 evenly distributed points in the examples below), and then for every pair of these find the linear polynomial that joins them.\n",
    "\n",
    "Of course this is typically default behaviour with line plotting - it joins discrete data points with straight lines.\n",
    "\n",
    "Let's emphasise this in the following code and plot."
   ]
  },
  {
   "cell_type": "code",
   "execution_count": 85,
   "metadata": {},
   "outputs": [
    {
     "data": {
      "image/png": "[encoded data removed]",
      "text/plain": [
       "<Figure size 576x432 with 1 Axes>"
      ]
     },
     "metadata": {
      "needs_background": "light"
     },
     "output_type": "display_data"
    }
   ],
   "source": [
    "# set up figure, title and axis labels\n",
    "fig = plt.figure(figsize=(8, 6))\n",
    "ax1 = fig.add_subplot(111)\n",
    "ax1.set_xlabel('$x$', fontsize=16)\n",
    "ax1.set_ylabel('$f(x)$', fontsize=16)\n",
    "ax1.set_title('Function approximation', fontsize=16)\n",
    "\n",
    "# plot the function on the fine mesh\n",
    "x_fine = np.linspace(0. ,1. ,100)\n",
    "ax1.plot(x_fine, f(x_fine), 'k-', label = 'exact')\n",
    "\n",
    "# plot the function on the coarse mesh\n",
    "x_coarse = np.linspace(0. ,1. ,4)\n",
    "ax1.plot(x_coarse, f(x_coarse), 'b-', label = 'coarse plotting')\n",
    "\n",
    "# add a legend\n",
    "ax1.legend(loc='best', fontsize=16);"
   ]
  },
  {
   "cell_type": "markdown",
   "metadata": {},
   "source": [
    "Of course with the use of line plotting (i.e. specifying `b-`) it has joined up the coarse sampling of the true function with straight lines - it assumes a linear variation in between and thus we observe a piecewise linear approximation.\n",
    "\n",
    "If you think about it the \"smooth\" black line in this plot is of course also piecewise linear, but just at a high enough resolution that is looks smooth and at least visually is essentially indistinguishable from the true function.\n",
    "\n",
    "We can replicate this behaviour by explicitly chopping up our domain into subdomains and plotting a polynomial approximation to the true solution within each."
   ]
  },
  {
   "cell_type": "markdown",
   "metadata": {},
   "source": [
    "In the following code we make use of [`numpy.polyfit`](https://docs.scipy.org/doc/numpy/reference/generated/numpy.polyfit.html) to find the linear polynomial approximation in between each pair of sample points.\n",
    "\n",
    "``` Python\n",
    "numpy.polyfit(x, y, deg, rcond=None, full=False, w=None, cov=False)\n",
    "```\n",
    ">   Least squares polynomial fit.\n",
    ">\n",
    ">   Fit a polynomial p(x) = p[0] * x**deg + ... + p[deg] of degree deg to points (x, y). Returns a vector of coefficients p that minimises the squared error.\n",
    "\n",
    "So [polyfit](https://docs.scipy.org/doc/numpy/reference/generated/numpy.polyfit.html) returns the coefficients of the polynomial fit to the data. \n",
    "\n",
    "Note that this returns the coefficients of the polynomial. We can then use [`numpy.poly1d`](https://docs.scipy.org/doc/numpy/reference/generated/numpy.poly1d.html) to turn this into a function we can easily evaluate.\n"
   ]
  },
  {
   "cell_type": "code",
   "execution_count": 86,
   "metadata": {},
   "outputs": [
    {
     "data": {
      "image/png": "[encoded data removed]",
      "text/plain": [
       "<Figure size 576x432 with 1 Axes>"
      ]
     },
     "metadata": {
      "needs_background": "light"
     },
     "output_type": "display_data"
    }
   ],
   "source": [
    "# define the number of nodes we want to define our discrete mesh\n",
    "N_nodes = 4\n",
    "# if we have 4 nodes, including at the ends of our domain, then we have 4-1=3 elements or cells\n",
    "N_elements = N_nodes - 1\n",
    "# and assuming a uniform mesh the element size is the total interval length \n",
    "# divided by the number of elements\n",
    "dx = 1./N_elements\n",
    "# construct the node locations\n",
    "x_nodes = np.linspace(0., 1., N_nodes)\n",
    "# and evaluate our function at these points\n",
    "y_nodes = f(x_nodes)\n",
    "# define a much finer mesh for plotting the \"true\" solution\n",
    "x_fine = np.linspace(0. ,1. ,100)\n",
    "\n",
    "# initialise the value of our interpolant at x_fine to zero \n",
    "P1 = np.zeros_like(x_fine)\n",
    "# we're going to populate P1 with values by stepping through the coarse mesh\n",
    "\n",
    "# loop over each pair of coarse mesh data points \n",
    "for i in range(0, N_elements):\n",
    "    # use polyfit to construct a local linear polynomial fit to data at i, i+1\n",
    "    P1_loc = np.polyfit(x_nodes[i:i + 2], y_nodes[i:i +2], 1)\n",
    "    # Remember this returns the coefficients of the polynomial, \n",
    "    # use polyval to evaluate P1_loc at the x_fine values for x_fine in [x_{i},x_{i+1}]\n",
    "    # and add these into the appropriate locations of P1\n",
    "    P1 += np.polyval(P1_loc, x_fine) * (x_fine >= x_nodes[i]) * (x_fine <= x_nodes[i + 1])\n",
    "\n",
    "fig = plt.figure(figsize=(8, 6))\n",
    "ax1 = fig.add_subplot(111)\n",
    "#ax1.set_xlabel('$x$', fontsize=16)\n",
    "ax1.set_xticks((x_nodes[0],x_nodes[1],x_nodes[2],x_nodes[3]))\n",
    "ax1.set_xticklabels(('$x_0$','$x_1$','$x_2$','$x_3$', ), fontsize=16)\n",
    "ax1.set_ylabel('$f(x)$', fontsize=16)\n",
    "ax1.set_title('Function approximation', fontsize=16)\n",
    "# plot the exact function on a fine mesh\n",
    "ax1.plot(x_fine, f(x_fine), 'k-', label = 'exact: $f(x)$')\n",
    "# plot the p/w linear interpolant on a coarse mesh\n",
    "ax1.plot(x_fine, P1, 'b', label='p/w linear interpolant: $\\pi\\,f(x)$')\n",
    "ax1.plot(x_nodes, f(x_nodes), 'bo')\n",
    "ax1.legend(loc='best', fontsize=16);"
   ]
  },
  {
   "cell_type": "markdown",
   "metadata": {},
   "source": [
    "#### Comments\n",
    "\n",
    "NB. a common notation for an interpolant of a function $f$, is the function $\\pi\\,f$.\n",
    "\n",
    "- Recall that an interpolant passes through the underlying function (or rather data obtained from the function) exactly at the data points: $\\pi\\,f(x_i)=f(x_i)$ $\\forall i$.\n",
    "\n",
    "\n",
    "- We see this in the plot above with the blue dots.\n",
    "\n",
    "\n",
    "- But we will see below that this is not the only option."
   ]
  },
  {
   "cell_type": "markdown",
   "metadata": {},
   "source": [
    "#### Interpolation errors  [$\\star$]"
   ]
  },
  {
   "cell_type": "markdown",
   "metadata": {},
   "source": [
    "##### Norms\n",
    "\n",
    "Note that unless our function itself is linear, a linear interpolant will have errors in between the data points (where the approximation is by definition exact).\n",
    "\n",
    "In the finite difference approximation, being exact at the nodes is the best we can achieve of course. But as in the finite element method the numerical solution is equally valid everywhere we need to consider the errors in between nodes.\n",
    "\n",
    "The difference\n",
    "\n",
    "$$ f - \\pi\\,f,$$\n",
    "\n",
    "which is itself is a function of $x$, is called the **interpolation error**.\n",
    "\n",
    "To judge if it is large or small we need a norm to turn it into a single number, i.e. we need to compute $\\,\\| f - \\pi\\,f \\|$.\n",
    "\n",
    "The $L^2$ norm is often used for this purpose as it tells us something about the average value of a function.\n",
    "\n",
    "For a general function $v$, the $L^2$ norm over a domain $I$ is defined as\n",
    "\n",
    "$$\\|v\\|_{L^2(I)} = \\left( \\int_I\\, v^2\\, dx\\right)^{1/2},$$\n",
    "\n",
    "where $I$ might be our entire domain, or a single element."
   ]
  },
  {
   "cell_type": "markdown",
   "metadata": {},
   "source": [
    "##### Error bounds formulae \n",
    "\n",
    "We will state following standard results without proving them.\n",
    "\n",
    "Over a single element $I_i$ we have the (linear) interpolation error bound\n",
    "\n",
    "$$\\| f - \\pi f\\|_{L^2(I_i)} \\leq C \\Delta x_i^2||f''||_{L^2(I_i)}, $$\n",
    "\n",
    "C is a constant,\n",
    "$I_i := [x_i,x_{i+1}]$ and $\\Delta x_i = x_{i+1} - x_{i}$.\n",
    "\n",
    "\n",
    "We can sum up this result over our entire domain:\n",
    "\n",
    "\n",
    "$$ \\| f - \\pi f\\|^2_{L^2(I)} \\leq C \\sum_{i=0}^N \\Delta x_i^4||f''||^2_{L^2(I_i)}.$$\n",
    "\n",
    "Note that we have the square on the LHS in this expression, hence power of 4 on the right."
   ]
  },
  {
   "cell_type": "markdown",
   "metadata": {},
   "source": [
    "##### Comments\n",
    "\n",
    "- This is consistent with what you've probably seen before with Taylor series analysis - the error is zero if $f$ is linear (as the second derivative is zero), and is larger for a larger mesh spacing or a more complex function. The error converges at second order with mesh spacing.\n",
    "\n",
    "\n",
    "- It turns our that while an approximation may be exact at the nodes, when considered in terms of the $L^2$ (and other) norm we can actually form an even better approximation to our function!  We'll see examples of this."
   ]
  },
  {
   "cell_type": "markdown",
   "metadata": {},
   "source": [
    "### Basis functions\n",
    "\n",
    "To progress we need to introduce basis functions, which are a critical component of the finite element method.\n",
    "\n",
    "So far in this lecture we have a piecewise linear approximation to our function. \n",
    "\n",
    "But how can we write this in the form\n",
    "\n",
    "$$f_h(x) = \\sum_{j=0}^N \\alpha_j \\phi_j(x), $$\n",
    "\n",
    "and what are the basis functions $\\phi_j(x)$ here?\n",
    "\n",
    "[Why am I using $j$ here for the sum rather than the more obvious $i$ (they're *dummy indices* so it of course doesn't matter which I use) - we will see why later.]\n"
   ]
  },
  {
   "cell_type": "markdown",
   "metadata": {},
   "source": [
    "#### Hat functions\n",
    "\n",
    "If you think about it the answer is the following\n",
    "\n",
    "$$\n",
    "\\phi_i(x) = \n",
    "\\begin{cases}\n",
    "\\frac{x - x_{i-1}}{\\Delta x_{i-1}}, &\\text{if}\\;\\;\\; x\\in e_{i-1}\\equiv[x_{i-1},x_{i}] \\\\[5pt]\n",
    "\\frac{x_{i+1} - x}{\\Delta x_{i}}, &\\text{if}\\;\\;\\; x\\in e_{i}\\equiv[x_{i},x_{i+1}] \\\\[5pt]\n",
    "0, & \\text{otherwise} \\\\\n",
    "\\end{cases}\n",
    "$$\n",
    "\n",
    "which have the name hat (or chapeau) functions, and look like the following.\n",
    "\n",
    "\n",
    "<img src=\"figures/fem_basis_functions.svg\" style=\"width: 800px\">\n"
   ]
  },
  {
   "cell_type": "markdown",
   "metadata": {},
   "source": [
    "#### Support of basis functions\n",
    "\n",
    "An important aspect of the finite element method is appreciating when the basis functions and the products of basis functions, e.g.\n",
    "\n",
    "$$\\phi_i \\, \\phi_j\\,,$$\n",
    "\n",
    "are non-zero.\n",
    "\n",
    "We call the area a function is non-zero its *support*, and in the FEM this area is typically finite and compact (i.e. it is bounded and all combined/connected).\n",
    "\n",
    "For a given value of $\\,i$, based upon the above schematic for what values of $\\,j\\,$ is the product non-zero anywhere?\n",
    "\n",
    "Similarly note that the derivative of a basis function, $\\,\\phi'_{i}\\,$, has the same (finite) support as $\\,\\phi_i\\,$, and hence the same result holds for the products\n",
    "\n",
    "$$\\phi_{i}\\,\\phi'_{j}\\,, \\;\\;\\;\\;\\; \\phi'_{i}\\,\\phi_{j}\\,,\\;\\;\\;\\;\\;\\text{and}\\;\\;\\;\\; \\phi'_{i}\\,\\phi'_{j}\\,,$$\n",
    "\n",
    "where the primes indicate the $x$ derivatives of the basis functions."
   ]
  },
  {
   "cell_type": "markdown",
   "metadata": {},
   "source": [
    "#### Some code to return the hat/basis functions\n",
    "\n",
    "First let's implement a function that returns the $i$-th hat function on a mesh.  \n",
    "\n",
    "You can try playing with the value for $i$ (`node` in the call to the function below) and see how it changes the plot."
   ]
  },
  {
   "cell_type": "code",
   "execution_count": 87,
   "metadata": {},
   "outputs": [
    {
     "data": {
      "image/png": "[encoded data removed]",
      "text/plain": [
       "<Figure size 576x144 with 1 Axes>"
      ]
     },
     "metadata": {
      "needs_background": "light"
     },
     "output_type": "display_data"
    }
   ],
   "source": [
    "def hat_function(i, x_nodes):\n",
    "    \"\"\" Linear continuous basis function at node i.\n",
    "    Returns a function for later use in quadrature rules.\n",
    "    \"\"\"\n",
    "    assert(i>=0 and i<=len(x_nodes)-1)\n",
    "    dx = np.diff(x_nodes)\n",
    "    if i==0:\n",
    "        hat = lambda x: np.select([ x<=x_nodes[i+1] ], [ (x_nodes[i+1] - x)/dx[i] ] ,0.0)\n",
    "    elif i==len(x_nodes)-1:\n",
    "        hat = lambda x: np.select([ x>=x_nodes[i-1] ], [ (x - x_nodes[i-1])/dx[i-1] ] ,0.0)\n",
    "    else:\n",
    "        hat = lambda x: np.select(\n",
    "                [ np.all([[x>=x_nodes[i-1]],[x<=x_nodes[i]]], axis=0)[0],  \n",
    "                  np.all([[x>=x_nodes[i]],[x<=x_nodes[i+1]]], axis=0)[0]] ,\n",
    "                [ (x-x_nodes[i-1])/dx[i-1], (x_nodes[i+1]-x)/dx[i] ] ,0.0)\n",
    "    return hat\n",
    "\n",
    "# define our discrete mesh\n",
    "x_nodes = np.linspace(0,1,8)\n",
    "# something much finer purely for plotting purposes\n",
    "x_fine = np.linspace(0,1,1000)\n",
    "# define the figure\n",
    "fig = plt.figure(figsize=(8, 2))\n",
    "ax1 = fig.add_subplot(111)\n",
    "ax1.set_xticks((x_nodes))\n",
    "ax1.set_xticklabels(('$x_0$','$x_1$','$x_2$','$x_3$','$x_4$','$x_5$','$x_6$','$x_7$' ), \n",
    "                    fontsize=16)\n",
    "ax1.set_ylabel('$y$', fontsize=16)\n",
    "ax1.set_title('P1 basis function', fontsize=16)\n",
    "\n",
    "# you can change the following to be in [0,n]\n",
    "node = 2\n",
    "phi = hat_function(node, x_nodes)\n",
    "ax1.plot(x_fine, phi(x_fine), 'k-');"
   ]
  },
  {
   "cell_type": "markdown",
   "metadata": {},
   "source": [
    "Now we show how we can make use of these basis functions to implement a function returning \n",
    "\n",
    "$$f_h(x) = \\sum_{j=0}^N \\alpha_j \\phi_j(x). $$"
   ]
  },
  {
   "cell_type": "code",
   "execution_count": 88,
   "metadata": {},
   "outputs": [
    {
     "data": {
      "image/png": "[encoded data removed]",
      "text/plain": [
       "<Figure size 576x432 with 1 Axes>"
      ]
     },
     "metadata": {
      "needs_background": "light"
     },
     "output_type": "display_data"
    }
   ],
   "source": [
    "# discrete data\n",
    "N_nodes = 4\n",
    "# if we have 4 nodes, including at the ends of our domain, then we have 4-1=3 elements/cells\n",
    "N_elements = N_nodes - 1\n",
    "# and the element size is the total interval length divided by the number of elements\n",
    "dx = 1./N_elements\n",
    "# construct the node locations\n",
    "x_nodes = np.linspace(0., 1., N_nodes)\n",
    "# and evaluate our function at these points\n",
    "y_nodes = f(x_nodes)\n",
    "\n",
    "# now a function to reconstruct the p/w linear function\n",
    "def pwlinear(x_nodes, y_nodes, x):\n",
    "    \"\"\"Function to return f_h(x) at locations given in x, \n",
    "    with top hat functions on a mesh given by x_nodes, and\n",
    "    corresponding weights given in y_nodes.\n",
    "    \"\"\"\n",
    "    val = np.zeros_like(x)\n",
    "    # loop over x values\n",
    "    for i in range(len(x)):\n",
    "        # which mesh node is directly to the left of x[i] ?\n",
    "        node = np.where( x[i] >= x_nodes )[0][-1]\n",
    "        # because of the greater than or equals above, deal with problem of hitting last node\n",
    "        node = np.minimum(len(x_nodes)-2,node)\n",
    "        # add together the contributions from the two hat functions at this x location\n",
    "        phi_node = hat_function(node, x_nodes)\n",
    "        phi_node_plus_1 = hat_function(node+1, x_nodes)\n",
    "        val[i] = y_nodes[node]*phi_node(x[i]) + y_nodes[node+1]*phi_node_plus_1(x[i])\n",
    "    return val\n",
    "\n",
    "x_fine = np.linspace(0,1,100)\n",
    "f_h = pwlinear(x_nodes, y_nodes, x_fine)\n",
    "\n",
    "fig = plt.figure(figsize=(8, 6))\n",
    "ax1 = fig.add_subplot(111)\n",
    "#ax1.set_xlabel('$x$', fontsize=16) # no need for an x label as we're going to set the ticks to x notation\n",
    "ax1.set_xticks((x_nodes[0],x_nodes[1],x_nodes[2],x_nodes[3]))\n",
    "ax1.set_xticklabels(('$x_0$','$x_1$','$x_2$','$x_3$', ), fontsize=16)\n",
    "ax1.set_ylabel('$y$', fontsize=16)\n",
    "ax1.set_title('Interpolant reconstructed using hat functions', fontsize=16)\n",
    "ax1.plot(x_fine, f(x_fine), 'k-', label = 'exact')\n",
    "ax1.plot(x_fine, f_h, 'b-', label = 'p/w linear using hat functions')\n",
    "ax1.plot(x_nodes, f(x_nodes), 'bo')\n",
    "ax1.legend(loc='best', fontsize=16);"
   ]
  },
  {
   "cell_type": "markdown",
   "metadata": {},
   "source": [
    "#### Comments\n",
    "\n",
    "So we've just recovered the same plot we get with default plotting as well as via Lagrange interpolation, but importantly we have seen that we can do this via basis functions and the expansion \n",
    "\n",
    "$$f_h(x) = \\sum_{j=0}^N \\alpha_j \\phi_j(x). $$\n",
    "\n",
    "This is vital to make further progress in understanding and implementing the FEM."
   ]
  }
 ],
 "metadata": {
  "kernelspec": {
   "display_name": "Python 3",
   "language": "python",
   "name": "python3"
  },
  "language_info": {
   "codemirror_mode": {
    "name": "ipython",
    "version": 3
   },
   "file_extension": ".py",
   "mimetype": "text/x-python",
   "name": "python",
   "nbconvert_exporter": "python",
   "pygments_lexer": "ipython3",
   "version": "3.6.7"
  },
  "toc": {
   "base_numbering": 1,
   "nav_menu": {},
   "number_sections": true,
   "sideBar": true,
   "skip_h1_title": true,
   "title_cell": "Table of Contents",
   "title_sidebar": "Contents",
   "toc_cell": true,
   "toc_position": {},
   "toc_section_display": true,
   "toc_window_display": false
  }
 },
 "nbformat": 4,
 "nbformat_minor": 1
}
