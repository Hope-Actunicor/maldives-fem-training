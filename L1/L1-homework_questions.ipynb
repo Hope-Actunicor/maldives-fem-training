{
 "cells": [
  {
   "cell_type": "markdown",
   "metadata": {
    "toc": true
   },
   "source": [
    "<h1>Table of Contents<span class=\"tocSkip\"></span></h1>\n",
    "<div class=\"toc\"><ul class=\"toc-item\"><li><span><a href=\"#Python-exercises\" data-toc-modified-id=\"Python-exercises-1\"><span class=\"toc-item-num\">1&nbsp;&nbsp;</span>Python exercises</a></span><ul class=\"toc-item\"><li><span><a href=\"#Exercise-1.1:-Compute-the-air-resistance-on-a-football\" data-toc-modified-id=\"Exercise-1.1:-Compute-the-air-resistance-on-a-football-1.1\"><span class=\"toc-item-num\">1.1&nbsp;&nbsp;</span>Exercise 1.1: Compute the air resistance on a football</a></span></li><li><span><a href=\"#Exercise-1.2:-Compute-the-growth-of-money-in-a-bank\" data-toc-modified-id=\"Exercise-1.2:-Compute-the-growth-of-money-in-a-bank-1.2\"><span class=\"toc-item-num\">1.2&nbsp;&nbsp;</span>Exercise 1.2: Compute the growth of money in a bank</a></span></li><li><span><a href=\"#Exercise-1.3:-Implement-a-Gaussian-function\" data-toc-modified-id=\"Exercise-1.3:-Implement-a-Gaussian-function-1.3\"><span class=\"toc-item-num\">1.3&nbsp;&nbsp;</span>Exercise 1.3: Implement a Gaussian function</a></span></li><li><span><a href=\"#Exercise-1.4:-Make-a-Fahrenheit-Celsius-conversion-table\" data-toc-modified-id=\"Exercise-1.4:-Make-a-Fahrenheit-Celsius-conversion-table-1.4\"><span class=\"toc-item-num\">1.4&nbsp;&nbsp;</span>Exercise 1.4: Make a Fahrenheit-Celsius conversion table</a></span></li><li><span><a href=\"#Exercise-1.5:-Store-odd-numbers-in-a-list\" data-toc-modified-id=\"Exercise-1.5:-Store-odd-numbers-in-a-list-1.5\"><span class=\"toc-item-num\">1.5&nbsp;&nbsp;</span>Exercise 1.5: Store odd numbers in a list</a></span></li><li><span><a href=\"#Exercise-1.6:-Create-a-list-of-even-numbers-ranging-from-0-to-100-using-a-for-loop.\" data-toc-modified-id=\"Exercise-1.6:-Create-a-list-of-even-numbers-ranging-from-0-to-100-using-a-for-loop.-1.6\"><span class=\"toc-item-num\">1.6&nbsp;&nbsp;</span>Exercise 1.6: Create a list of even numbers ranging from 0 to 100 using a for loop.</a></span></li><li><span><a href=\"#Exercise-1.7:-Implement-the-sum-function\" data-toc-modified-id=\"Exercise-1.7:-Implement-the-sum-function-1.7\"><span class=\"toc-item-num\">1.7&nbsp;&nbsp;</span>Exercise 1.7: Implement the sum function</a></span></li><li><span><a href=\"#Exercise-1.8:-Function-that-returns-a-list.\" data-toc-modified-id=\"Exercise-1.8:-Function-that-returns-a-list.-1.8\"><span class=\"toc-item-num\">1.8&nbsp;&nbsp;</span>Exercise 1.8: Function that returns a list.</a></span></li><li><span><a href=\"#Exercise-1.9:-Cumulative-sum\" data-toc-modified-id=\"Exercise-1.9:-Cumulative-sum-1.9\"><span class=\"toc-item-num\">1.9&nbsp;&nbsp;</span>Exercise 1.9: Cumulative sum</a></span></li><li><span><a href=\"#Exercise-1.10:-Calculate-Pi\" data-toc-modified-id=\"Exercise-1.10:-Calculate-Pi-1.10\"><span class=\"toc-item-num\">1.10&nbsp;&nbsp;</span>Exercise 1.10: Calculate Pi</a></span></li><li><span><a href=\"#Exercise-1.11:-Create-a-list-and-modify-it.\" data-toc-modified-id=\"Exercise-1.11:-Create-a-list-and-modify-it.-1.11\"><span class=\"toc-item-num\">1.11&nbsp;&nbsp;</span>Exercise 1.11: Create a list and modify it.</a></span></li><li><span><a href=\"#Exercise-1.12:-Make-a-table-(a-list-of-lists)-of-function-values\" data-toc-modified-id=\"Exercise-1.12:-Make-a-table-(a-list-of-lists)-of-function-values-1.12\"><span class=\"toc-item-num\">1.12&nbsp;&nbsp;</span>Exercise 1.12: Make a table (a list of lists) of function values</a></span></li><li><span><a href=\"#Exercise-1.13:-Express-a-step-function-as-a-Python-function\" data-toc-modified-id=\"Exercise-1.13:-Express-a-step-function-as-a-Python-function-1.13\"><span class=\"toc-item-num\">1.13&nbsp;&nbsp;</span>Exercise 1.13: Express a step function as a Python function</a></span></li><li><span><a href=\"#Exercise-1.14:-Implement-the-factorial-function\" data-toc-modified-id=\"Exercise-1.14:-Implement-the-factorial-function-1.14\"><span class=\"toc-item-num\">1.14&nbsp;&nbsp;</span>Exercise 1.14: Implement the factorial function</a></span></li><li><span><a href=\"#Exercise-1.15:-Compute-the-length-of-a-path\" data-toc-modified-id=\"Exercise-1.15:-Compute-the-length-of-a-path-1.15\"><span class=\"toc-item-num\">1.15&nbsp;&nbsp;</span>Exercise 1.15: Compute the length of a path</a></span></li><li><span><a href=\"#Exercise-1.16:-Approximate-$\\pi$\" data-toc-modified-id=\"Exercise-1.16:-Approximate-$\\pi$-1.16\"><span class=\"toc-item-num\">1.16&nbsp;&nbsp;</span>Exercise 1.16: Approximate $\\pi$</a></span></li><li><span><a href=\"#Exercise-1.17:-Make-a-list-of-prime-numbers\" data-toc-modified-id=\"Exercise-1.17:-Make-a-list-of-prime-numbers-1.17\"><span class=\"toc-item-num\">1.17&nbsp;&nbsp;</span>Exercise 1.17: Make a list of prime numbers</a></span></li><li><span><a href=\"#Exercise-1.18:-Fill-lists-and-arrays-with-function-values\" data-toc-modified-id=\"Exercise-1.18:-Fill-lists-and-arrays-with-function-values-1.18\"><span class=\"toc-item-num\">1.18&nbsp;&nbsp;</span>Exercise 1.18: Fill lists and arrays with function values</a></span></li><li><span><a href=\"#Exercise-1.19:-Explore-array-slicing\" data-toc-modified-id=\"Exercise-1.19:-Explore-array-slicing-1.19\"><span class=\"toc-item-num\">1.19&nbsp;&nbsp;</span>Exercise 1.19: Explore array slicing</a></span></li><li><span><a href=\"#Exercise-1.20:-Implement-matrix-vector-multiplication\" data-toc-modified-id=\"Exercise-1.20:-Implement-matrix-vector-multiplication-1.20\"><span class=\"toc-item-num\">1.20&nbsp;&nbsp;</span>Exercise 1.20: Implement matrix-vector multiplication</a></span></li><li><span><a href=\"#Exercise-1.21:-Vectorized-function\" data-toc-modified-id=\"Exercise-1.21:-Vectorized-function-1.21\"><span class=\"toc-item-num\">1.21&nbsp;&nbsp;</span>Exercise 1.21: Vectorized function</a></span></li><li><span><a href=\"#Exercise-1.22:-Implement-matrix-matrix-multiplication\" data-toc-modified-id=\"Exercise-1.22:-Implement-matrix-matrix-multiplication-1.22\"><span class=\"toc-item-num\">1.22&nbsp;&nbsp;</span>Exercise 1.22: Implement matrix-matrix multiplication</a></span></li><li><span><a href=\"#Exercise-1.23:-2D-array-slicing\" data-toc-modified-id=\"Exercise-1.23:-2D-array-slicing-1.23\"><span class=\"toc-item-num\">1.23&nbsp;&nbsp;</span>Exercise 1.23: 2D array slicing</a></span></li><li><span><a href=\"#Exercise-1.24:-Plot-a-formula\" data-toc-modified-id=\"Exercise-1.24:-Plot-a-formula-1.24\"><span class=\"toc-item-num\">1.24&nbsp;&nbsp;</span>Exercise 1.24: Plot a formula</a></span></li><li><span><a href=\"#Exercise-1.25:-Plot-another-formula\" data-toc-modified-id=\"Exercise-1.25:-Plot-another-formula-1.25\"><span class=\"toc-item-num\">1.25&nbsp;&nbsp;</span>Exercise 1.25: Plot another formula</a></span></li><li><span><a href=\"#Exercise-1.26:-Plot-a-formula-for-several-parameters\" data-toc-modified-id=\"Exercise-1.26:-Plot-a-formula-for-several-parameters-1.26\"><span class=\"toc-item-num\">1.26&nbsp;&nbsp;</span>Exercise 1.26: Plot a formula for several parameters</a></span></li></ul></li><li><span><a href=\"#Interpolation-exercises\" data-toc-modified-id=\"Interpolation-exercises-2\"><span class=\"toc-item-num\">2&nbsp;&nbsp;</span>Interpolation exercises</a></span><ul class=\"toc-item\"><li><span><a href=\"#Homework---Interpolation-error-within-elements\" data-toc-modified-id=\"Homework---Interpolation-error-within-elements-2.1\"><span class=\"toc-item-num\">2.1&nbsp;&nbsp;</span>Homework - Interpolation error within elements</a></span></li></ul></li></ul></div>"
   ]
  },
  {
   "cell_type": "markdown",
   "metadata": {
    "slideshow": {
     "slide_type": "slide"
    }
   },
   "source": [
    "# Lecture 1: Introduction to programming in Python <a class=\"tocSkip\">\n",
    "    \n",
    "## Homework exercises <a class=\"tocSkip\">"
   ]
  },
  {
   "cell_type": "markdown",
   "metadata": {},
   "source": [
    "## Python exercises"
   ]
  },
  {
   "cell_type": "markdown",
   "metadata": {},
   "source": [
    "### Exercise 1.1: Compute the air resistance on a football\n",
    "The drag force, due to air resistance, on an object can be expressed as\n",
    "$$F_d = \\frac{1}{2}C_D\\rho AV^2$$\n",
    "where:\n",
    "* $\\rho$ is the density of the air,\n",
    "* $V$ is the velocity of the object,\n",
    "* $A$ is the cross-sectional area (normal to the velocity direction),\n",
    "* and $C_D$ is the drag coefficient, which depends on the shape of the object and the roughness of the surface.\n",
    "\n",
    "Complete the following code that computes the drag force. "
   ]
  },
  {
   "cell_type": "code",
   "execution_count": null,
   "metadata": {},
   "outputs": [],
   "source": [
    "# Football example\n",
    "\n",
    "# import pi from Python's math library\n",
    "from math import pi\n",
    "\n",
    "density = 1.2      # units of kg m^{−3}$\n",
    "ball_radius = 0.11 # m\n",
    "A = pi*ball_radius # Cross sectional area of a sphere\n",
    "mass = 0.43        # kg\n",
    "C_D = 0.2          # Drag coefficient\n",
    "\n",
    "V = 50.8           # m/s (fastest recorded speed of football)\n",
    "\n",
    "# Uncomment and complete the following code.\n",
    "# F_d = \n",
    "\n",
    "# Challenge yourself to use the formatted print statement\n",
    "# shown above to write out the forces with one decimal in\n",
    "# units of Newton ($N = kgm/s^2$)."
   ]
  },
  {
   "cell_type": "markdown",
   "metadata": {},
   "source": [
    "### Exercise 1.2: Compute the growth of money in a bank\n",
    "Let *p* be a bank's interest rate in percent per year. An initial amount $A_0$ has then grown to $$A_n = A_0\\left(1+\\frac{p}{100}\\right)^n$$ after *n* years. Write a program for computing how much money 1000 euros have grown to after three years with a 5% interest rate."
   ]
  },
  {
   "cell_type": "code",
   "execution_count": null,
   "metadata": {},
   "outputs": [],
   "source": [
    "# Complete the code commented out below\n",
    "\n",
    "# p = ...\n",
    "# A_0 = ... \n",
    "\n",
    "# A_n = ...\n",
    "\n",
    "# print(\"The amount of money in the account after %d years is: %.2f euros\" % (n, A_n))"
   ]
  },
  {
   "cell_type": "markdown",
   "metadata": {},
   "source": [
    "### Exercise 1.3: Implement a Gaussian function\n",
    "\n",
    "Create a Python function to compute the Gaussian: \n",
    "$$f(x)=\\frac{1}{s\\sqrt{2\\pi}}\\exp\\left(-\\frac{1}{2} \\left(\\frac{x-m}{s}\\right)^2\\right)$$"
   ]
  },
  {
   "cell_type": "code",
   "execution_count": null,
   "metadata": {},
   "outputs": [],
   "source": [
    "# Uncomment and complete this code\n",
    "\n",
    "# def gaussian(x, m=0, s=1):\n",
    "#     ..."
   ]
  },
  {
   "cell_type": "markdown",
   "metadata": {},
   "source": [
    "### Exercise 1.4: Make a Fahrenheit-Celsius conversion table\n",
    "\n",
    "Write a program that uses a while loop to print out a table with Fahrenheit degrees 0, 10, 20, ..., 100 in the first column and the corresponding Celsius degrees in the second column."
   ]
  },
  {
   "cell_type": "code",
   "execution_count": null,
   "metadata": {},
   "outputs": [],
   "source": []
  },
  {
   "cell_type": "markdown",
   "metadata": {},
   "source": [
    "### Exercise 1.5: Store odd numbers in a list\n",
    "\n",
    "Step 1: Write a program that generates all odd numbers from 1 to *n*. For the purpose of testing, set *n=10* at the beginning of the program and use a while loop to compute the numbers. (Make sure that if *n* is an even number, the largest generated odd number is *n*-1.).\n",
    "\n",
    "Step 2: Store the generated odd numbers in a list. Start with an empty list and use the same while loop where you generate each odd number, to append the new number to the list."
   ]
  },
  {
   "cell_type": "code",
   "execution_count": null,
   "metadata": {},
   "outputs": [],
   "source": []
  },
  {
   "cell_type": "markdown",
   "metadata": {},
   "source": [
    "### Exercise 1.6: Create a list of even numbers ranging from 0 to 100 using a for loop."
   ]
  },
  {
   "cell_type": "code",
   "execution_count": null,
   "metadata": {},
   "outputs": [],
   "source": []
  },
  {
   "cell_type": "markdown",
   "metadata": {},
   "source": [
    "### Exercise 1.7: Implement the sum function\n",
    "\n",
    "The built-in Python function [sum](https://docs.python.org/3/library/functions.html#sum) takes a list as argument and computes the sum of the elements in the list:\n",
    "```\n",
    "sum([1,3,5,-5])\n",
    "\n",
    "4\n",
    "```\n",
    "Implement your own version of sum."
   ]
  },
  {
   "cell_type": "code",
   "execution_count": null,
   "metadata": {},
   "outputs": [],
   "source": [
    "#def my_sum(x):\n",
    "    # Complete this code\n",
    "#print(sum(even_list))"
   ]
  },
  {
   "cell_type": "markdown",
   "metadata": {},
   "source": [
    "### Exercise 1.8: Function that returns a list.\n",
    "\n",
    "Write a function that creates a `list`, $t$ with `num` values ranging from `t_start` to `t_end` and returns the `list` of $y$ values calculated using the formula:\n",
    "$$y(t) = v_0t − gt^2.$$\n",
    "Specify the keyword arguments $v0=6.0$ and $g=9.81$."
   ]
  },
  {
   "cell_type": "code",
   "execution_count": null,
   "metadata": {},
   "outputs": [],
   "source": [
    "#def distance(t_start, t_end, num, v0=6.0, g=9.81):\n",
    "    # Complete this code"
   ]
  },
  {
   "cell_type": "markdown",
   "metadata": {},
   "source": [
    "### Exercise 1.9: Cumulative sum\n",
    "\n",
    "Write a function that returns the cumulative sum of the numbers in a list. The function should return a list, whose `i`th element is the sum of the input list up to and including the `i`th element.\n",
    "\n",
    "For example, for the list `[1, 4, 2, 5, 3]` should return `[1, 5, 7, 12, 15]`."
   ]
  },
  {
   "cell_type": "code",
   "execution_count": null,
   "metadata": {},
   "outputs": [],
   "source": [
    "#def my_cumsum(l):\n",
    "    # Complete this code\n",
    "    \n",
    "#print(my_cumsum([1, 4, 2, 5, 3]))"
   ]
  },
  {
   "cell_type": "markdown",
   "metadata": {},
   "source": [
    "### Exercise 1.10: Calculate Pi\n",
    "\n",
    "A formula for $\\pi$ is given by the Gregory-Leibniz series:\n",
    "\n",
    "$$\\pi = 4 \\left(\\frac{1}{1} - \\frac{1}{3} + \\frac{1}{5} - \\frac{1}{7} + \\frac{1}{9} + ...  \\right)$$\n",
    "\n",
    "Note that the denominators of the terms in this series are the positive odd numbers. Follow the guidelines below to calculate $\\pi$; each of the first three steps can be completed using a single list comprehension.\n",
    "\n",
    "Step 1:\n",
    "\n",
    "Modify your answer to Exercise 1.14 to produce a list of the first `n` odd numbers, for `n=100`.\n",
    "\n",
    "Step 2:\n",
    "\n",
    "Make a list of the signs of each term, i.e. `[1, -1, 1, -1, ...]`. Store the result in a list named `signs`. Hint: think about the value of $(-1)^i$ for integer $i$.\n",
    "\n",
    "Step 3:\n",
    "\n",
    "Using the results of steps 1 and 2, make a list of the first `n` terms in the above series, and store in a variable named `series_terms`.\n",
    "\n",
    "Step 4:\n",
    "\n",
    "Use your `my_sum` function from the previous exercise to sum this series, and multiply by 4. Store this value in a variable named `my_pi`."
   ]
  },
  {
   "cell_type": "code",
   "execution_count": null,
   "metadata": {},
   "outputs": [],
   "source": [
    "# Uncomment and complete this code\n",
    "\n",
    "#n = 100\n",
    "\n",
    "#odd_integers = [...]\n",
    "\n",
    "#signs = [...]\n",
    "\n",
    "#series_terms = [...]\n",
    "\n",
    "#my_pi = ...\n",
    "\n",
    "#print(my_pi)"
   ]
  },
  {
   "cell_type": "markdown",
   "metadata": {},
   "source": [
    "### Exercise 1.11: Create a list and modify it.\n",
    "* Create a list of all integers in the range -10 to 10 (call the list *vector* for testing purposes).\n",
    "* Write a loop to multiply each element of the list by 2."
   ]
  },
  {
   "cell_type": "code",
   "execution_count": null,
   "metadata": {},
   "outputs": [],
   "source": []
  },
  {
   "cell_type": "markdown",
   "metadata": {},
   "source": [
    "### Exercise 1.12: Make a table (a list of lists) of function values\n",
    "* Write a loop that evaluates the expression $y(t) = v_0 t − 0.5gt^2$ for 11 evenly spaced values ranging from 0, to $2v_0/g$ (remember that dividing a range into n intervals results in n+1 values!) You can assume that $v_0 = 1$, $g=9.81 ms^{-2}$.\n",
    "* Store the time values and displacement ($y$) values as a nested list, i.e.\n",
    "```python\n",
    "tlist = [t0, t1, t2, ...]\n",
    "ylist = [y0, y1, y2, ...]\n",
    "displacement = [tlist, ylist]\n",
    "```"
   ]
  },
  {
   "cell_type": "code",
   "execution_count": null,
   "metadata": {},
   "outputs": [],
   "source": []
  },
  {
   "cell_type": "markdown",
   "metadata": {},
   "source": [
    "### Exercise 1.13: Express a step function as a Python function\n",
    "The following \"step\" function is known as the Heaviside function and\n",
    "is widely used in mathematics:\n",
    "$$H(x)=\\begin{cases}0, & \\text{if $x<0$}.\\\\\\\\\n",
    "1, & \\text{if $x\\ge 0$}.\\end{cases}$$\n",
    "Write a Python function heaviside(x) that computes H(x)."
   ]
  },
  {
   "cell_type": "code",
   "execution_count": null,
   "metadata": {},
   "outputs": [],
   "source": [
    "# def heaviside(x):\n",
    "#     ..."
   ]
  },
  {
   "cell_type": "markdown",
   "metadata": {},
   "source": [
    "### Exercise 1.14: Implement the factorial function\n",
    "\n",
    "The factorial of $n$, written as $n!$, is defined as\n",
    "\n",
    "$$n! = n(n − 1)(n − 2) \\cdots 2 \\cdot 1,$$\n",
    "\n",
    "with the special cases\n",
    "\n",
    "$$1! = 1,$$ $$0! = 1.$$\n",
    "\n",
    "For example, $4! = 4 \\cdot 3 \\cdot 2 \\cdot 1 = 24$, and $2! = 2 \\cdot 1 = 2$.\n",
    "\n",
    "Implement your own factorial function to calculate $n!$. Return 1 immediately if $n$ is 1 or 0, otherwise use a loop to compute $n!$. You can use Pythons own [math.factorial(x)](https://docs.python.org/3/library/math.html) to check your code."
   ]
  },
  {
   "cell_type": "code",
   "execution_count": null,
   "metadata": {},
   "outputs": [],
   "source": [
    "# Uncomment and complete this code\n",
    "\n",
    "# def my_factorial(n):\n",
    "#     ..."
   ]
  },
  {
   "cell_type": "markdown",
   "metadata": {},
   "source": [
    "### Exercise 1.15: Compute the length of a path\n",
    "\n",
    "Some object is moving along a path in the plane. At $n$ points of time we have recorded the corresponding $(x, y)$ positions of the object:\n",
    "$(x_0, y_0), (x_1, y_1), \\ldots, (x_{n-1}, y_{n-1})$. The total length $L$ of the path from $(x_0, y_0)$ to $(x_{n-1}, y_{n-1})$ is the sum of all the individual line segments $(x_{i-1}, y_{i-1})$ to $(x_i, y_i)$, $i = 1, \\ldots, n-1$:\n",
    "\n",
    "$$L = \\sum_{i=1}^{n-1}{\\sqrt{(x_i - x_{i-1})^2 + (y_i - y_{i-1})^2}}.$$\n",
    "\n",
    "Create a function *pathlength(x, y)* for computing $L$ according to the formula. The arguments $x$ and $y$ are two lists that hold all the $x_0, \\ldots, x_{n-1}$ and $y_0, \\ldots, y_{n-1}$ coordinates, respectively. Test the function on a triangular path with the four points (1, 1), (2, 1), (1, 2), and (1, 1)."
   ]
  },
  {
   "cell_type": "code",
   "execution_count": null,
   "metadata": {},
   "outputs": [],
   "source": [
    "# Uncomment and complete this code\n",
    "\n",
    "# def path_length(x, y):\n",
    "#     ..."
   ]
  },
  {
   "cell_type": "markdown",
   "metadata": {},
   "source": [
    "### Exercise 1.16: Approximate $\\pi$\n",
    "\n",
    "As you know the circumference of a circle is given by $2 \\pi r$ where $r$ is the radius of the circle.  $\\pi$ is therefore the circumference of a circle with $r= \\frac{1}{2}$.\n",
    "\n",
    "We can approximate this circumference by a many-sided polygon through points on the circle. The sum of the lengths of the sides of the polygon will approximate the circumference.\n",
    "\n",
    "Firstly compute $n+1$ points around a circle according to the formulae:\n",
    "\n",
    "$ x_i = \\frac{1}{2} \\cos(\\frac{2 \\pi i}{n}),   y_i = \\frac{1}{2} \\sin(\\frac{2 \\pi i}{n}),   i = 0 \\cdots n$\n",
    "\n",
    "Then use your `path_length` function from the previous question to approximate $\\pi$."
   ]
  },
  {
   "cell_type": "code",
   "execution_count": null,
   "metadata": {},
   "outputs": [],
   "source": [
    "# Uncomment and complete this code\n",
    "\n",
    "# def approx_pi(n):\n",
    "#     ..."
   ]
  },
  {
   "cell_type": "markdown",
   "metadata": {},
   "source": [
    "### Exercise 1.17: Make a list of prime numbers\n",
    "\n",
    "Define a function called `prime_list` that lists all the prime numbers up to a given $n$.  \n",
    "\n",
    "Save all the prime numbers up to $100$ in a list called `myprimes`.\n",
    "\n",
    "Hint: Google the Sieve of Eratosthenes.\n"
   ]
  },
  {
   "cell_type": "code",
   "execution_count": null,
   "metadata": {},
   "outputs": [],
   "source": [
    "# Uncomment and complete this code\n",
    "\n",
    "# def prime_list(n):\n",
    "#     ...\n",
    "\n",
    "\n",
    "\n",
    "# myprimes = prime_list(100)"
   ]
  },
  {
   "cell_type": "markdown",
   "metadata": {},
   "source": [
    "### Exercise 1.18: Fill lists and arrays with function values\n",
    "\n",
    "A function with many applications in science is defined as:\n",
    "\n",
    "$$h(x) = \\frac{1}{\\sqrt{2\\pi}}\\exp(-0.5x^2)$$\n",
    "\n",
    "* Implement the above formula as a Python function. Call the function *h* and it should take just one argument, *x*.\n",
    "* Create a NumPy array (call it $x$) that has 9 uniformly spaced points in [−4, 4].\n",
    "* Create a second NumPy array (call it $y$) with the function $h(x)$."
   ]
  },
  {
   "cell_type": "code",
   "execution_count": null,
   "metadata": {},
   "outputs": [],
   "source": []
  },
  {
   "cell_type": "markdown",
   "metadata": {},
   "source": [
    "### Exercise 1.19: Explore array slicing\n",
    "\n",
    "* Create a NumPy array called *w* with 31 uniformly spaced values ranging from 0 to 3.\n",
    "* Using array slicing, create a NumPy array called *wbits* that starts from the $4^{th}$ element of *w*, excludes the final element of *w* and selects every $3^{rd}$ element."
   ]
  },
  {
   "cell_type": "code",
   "execution_count": null,
   "metadata": {},
   "outputs": [],
   "source": []
  },
  {
   "cell_type": "markdown",
   "metadata": {},
   "source": [
    "### Exercise 1.20: Implement matrix-vector multiplication\n",
    "A matrix $\\mathbf{A}$ and a vector $\\mathbf{b}$, represented in Python as a 2D array and a 1D array respectively, are given by:\n",
    "\n",
    "$$\n",
    "\\mathbf{A} = \\left\\lbrack\\begin{array}{ccc}\n",
    "0 & 12 & -1\\cr\n",
    "-1 & -1 & -1\\cr\n",
    "11 & 5 & 5\n",
    "\\end{array}\\right\\rbrack\n",
    "$$\n",
    "\n",
    "$$\n",
    "\\mathbf{b} = \\left\\lbrack\\begin{array}{c}\n",
    "-2\\cr\n",
    "1\\cr\n",
    "7\n",
    "\\end{array}\\right\\rbrack\n",
    "$$\n",
    "\n",
    "Multiplying a matrix by a vector results in another vector $\\mathbf{c}$, whose components are defined by the general rule\n",
    "\n",
    "$$\\mathbf{c}_i = \\sum_j\\mathbf{A}_{i,j}\\mathbf{b}_j$$\n",
    "\n",
    "* Define $\\mathbf{A}$ and $\\mathbf{b}$ as NumPy arrays\n",
    "* Write a function called `multiply` that takes two arguments, a matrix and a vector in the form of NumPy arrays, and returns a NumPy array containing their product.\n",
    "* Call this function on $\\mathbf{A}$ and $\\mathbf{b}$, and store the result in a variable $c$."
   ]
  },
  {
   "cell_type": "code",
   "execution_count": null,
   "metadata": {},
   "outputs": [],
   "source": []
  },
  {
   "cell_type": "markdown",
   "metadata": {},
   "source": [
    "### Exercise 1.21: Vectorized function\n",
    "\n",
    "Let $A_{33}$ be the two-dimensional array\n",
    "$$\n",
    "\\mathbf{A_{33}} = \\left\\lbrack\\begin{array}{ccc}\n",
    "0 & 12 & -1\\cr\n",
    "-1 & -1 & -1\\cr\n",
    "11 & 5 & 5\n",
    "\\end{array}\\right\\rbrack\n",
    "$$\n",
    "\n",
    "Implement and apply the function\n",
    "$$\n",
    "f(x) = x^3 + xe^x + 1\n",
    "$$\n",
    "to each element in $A_{33}$. Then calculate the result of the array expression ${A_{33}}^3 + A_{33}e^{A_{33}} + 1$, and demonstrate that the end result of the two methods are the same."
   ]
  },
  {
   "cell_type": "code",
   "execution_count": null,
   "metadata": {},
   "outputs": [],
   "source": [
    "# def f_cubic(A):\n",
    "#     ..."
   ]
  },
  {
   "cell_type": "markdown",
   "metadata": {},
   "source": [
    "### Exercise 1.22: Implement matrix-matrix multiplication\n",
    "\n",
    "Similarly to Exercise 4.3 (where a matrix is multiplied by a vector), the general rule for multiplying a $n \\times m$ matrix $\\mathbf{A}$ by a $m \\times p$ matrix $\\mathbf{B}$ results in a $n \\times p$ matrix $\\mathbf{C}$, whose components are defined by the general rule\n",
    "\n",
    "$$\\mathbf{C}_{i,j} = \\sum^m_{k=1}\\mathbf{A}_{i,k}\\mathbf{B}_{k,j}$$\n",
    "\n",
    "Again let $\\mathbf{A}$ be the two-dimensional array\n",
    "\n",
    "$$\n",
    "\\mathbf{A} = \\left\\lbrack\\begin{array}{ccc}\n",
    "0 & 12 & -1\\cr\n",
    "-1 & -1 & -1\\cr\n",
    "11 & 5 & 5\n",
    "\\end{array}\\right\\rbrack\n",
    "$$\n",
    "\n",
    "and let $\\mathbf{B}$ be the two-dimensional array\n",
    "\n",
    "$$\n",
    "\\mathbf{B} = \\left\\lbrack\\begin{array}{ccc}\n",
    "-2 & 1 & 7\\cr\n",
    "3 & 0 & 6\\cr\n",
    "2 & 3 & 5\n",
    "\\end{array}\\right\\rbrack\n",
    "$$\n",
    "\n",
    "Define `A` and `B` as NumPy arrays, and write a function `f_mult` which multiplies them together using the above rule to create a the NumPy array called `C`."
   ]
  },
  {
   "cell_type": "code",
   "execution_count": null,
   "metadata": {},
   "outputs": [],
   "source": [
    "# def f_mult(A,B):\n",
    "#     if A.shape[1] != B.shape[0]:\n",
    "#         raise RunTimeError(\"A should be have the same number of columns as B has rows\")\n",
    "#     C = np.zeros([A.shape[0],B.shape[1]])\n",
    "#     ..."
   ]
  },
  {
   "cell_type": "markdown",
   "metadata": {},
   "source": [
    "### Exercise 1.23: 2D array slicing\n",
    "\n",
    "\n",
    "* Create a 1D NumPy array called `odd` with all of the odd numbers from 1 to 55\n",
    "* Create a 2D NumPy array called `odd_sq` with all of the odd numbers from 1 to 55 in a matrix with 4 rows and 7 columns\n",
    "* Using array slicing, create a 2D NumPy array called, `odd_bits`, that starts from the $2^{nd}$ column of `odd_sq` and selects every other column, of only the $2^{nd}$ and $3^{rd}$ rows of `odd_sq`"
   ]
  },
  {
   "cell_type": "code",
   "execution_count": null,
   "metadata": {},
   "outputs": [],
   "source": []
  },
  {
   "cell_type": "markdown",
   "metadata": {},
   "source": [
    "### Exercise 1.24: Plot a formula\n",
    "\n",
    "* Make a plot of the function $$y(t) = v_0t − 0.5gt^2$$ for $v_0 = 10$, $g = 9.81$, and $t \\in [0, 2v_0/g]$. The label on the *x* axis should be 'time (s)' and the label on the *y* axis should be 'height (m)'."
   ]
  },
  {
   "cell_type": "code",
   "execution_count": null,
   "metadata": {},
   "outputs": [],
   "source": []
  },
  {
   "cell_type": "markdown",
   "metadata": {},
   "source": [
    "### Exercise 1.25: Plot another formula\n",
    "\n",
    "The function\n",
    "\n",
    "$$f(x, t) = \\exp(-(x - 3t)^2)\\sin(3\\pi(x - t)).$$\n",
    "\n",
    "describes, for a fixed value of *t*, a wave localized in space. Make a program that visualizes this function as a function of *x* on the interval [−4, 4] when *t* = 0."
   ]
  },
  {
   "cell_type": "code",
   "execution_count": null,
   "metadata": {},
   "outputs": [],
   "source": []
  },
  {
   "cell_type": "markdown",
   "metadata": {},
   "source": [
    "### Exercise 1.26: Plot a formula for several parameters\n",
    "\n",
    "Write a program in which you generate 10 uniformly spaced values for $v_0$ range from 1 to 20, and plots the function $y(t) = v_0t − 0.5gt^2$ within the time range $t \\in [0, 2v_0/g]$. Assume $g = 9.81$."
   ]
  },
  {
   "cell_type": "code",
   "execution_count": null,
   "metadata": {},
   "outputs": [],
   "source": []
  },
  {
   "cell_type": "markdown",
   "metadata": {},
   "source": [
    "## Interpolation exercises"
   ]
  },
  {
   "cell_type": "markdown",
   "metadata": {},
   "source": [
    "### Homework - Interpolation error within elements\n",
    "\n",
    "Update the linear interpolation example from the lecture to plot the interpolation error\n",
    "\n",
    "$$ f - \\pi\\,f,$$\n",
    "\n",
    "where \n",
    "\n",
    "$$ f(x) = \\sin(2\\pi x) + \\frac{3}{10}\\cos(6\\pi x^2),$$\n",
    "\n",
    "over the interval $[0,1]$.\n",
    "\n",
    "Compute the RMS error, using the expression\n",
    "```Python\n",
    "sl.norm(a - b) / np.sqrt(len(a))\n",
    "```\n",
    "\n",
    "Try write your own function to calculate the RMS error and check against the value obtained with the code above.\n",
    "\n",
    "Hint: start by copying and pasting the code from the lecture for computing $\\pi f$."
   ]
  },
  {
   "cell_type": "code",
   "execution_count": 2,
   "metadata": {},
   "outputs": [],
   "source": [
    "# Here's something to get you started\n",
    "\n",
    "%precision 3\n",
    "%matplotlib inline\n",
    "import numpy as np\n",
    "import matplotlib.pyplot as plt\n",
    "import scipy.linalg as sl\n",
    "\n",
    "# define our function\n",
    "def f(x):\n",
    "    return np.sin(2*np.pi*x) + 0.3*np.cos(3.*2.*np.pi*x**2)"
   ]
  }
 ],
 "metadata": {
  "celltoolbar": "Slideshow",
  "kernelspec": {
   "display_name": "Python 3",
   "language": "python",
   "name": "python3"
  },
  "language_info": {
   "codemirror_mode": {
    "name": "ipython",
    "version": 3
   },
   "file_extension": ".py",
   "mimetype": "text/x-python",
   "name": "python",
   "nbconvert_exporter": "python",
   "pygments_lexer": "ipython3",
   "version": "3.6.5"
  },
  "latex_envs": {
   "LaTeX_envs_menu_present": true,
   "autoclose": false,
   "autocomplete": true,
   "bibliofile": "biblio.bib",
   "cite_by": "apalike",
   "current_citInitial": 1,
   "eqLabelWithNumbers": true,
   "eqNumInitial": 1,
   "hotkeys": {
    "equation": "Ctrl-E",
    "itemize": "Ctrl-I"
   },
   "labels_anchors": false,
   "latex_user_defs": false,
   "report_style_numbering": false,
   "user_envs_cfg": false
  },
  "toc": {
   "base_numbering": "1",
   "nav_menu": {},
   "number_sections": true,
   "sideBar": true,
   "skip_h1_title": false,
   "title_cell": "Table of Contents",
   "title_sidebar": "Contents",
   "toc_cell": true,
   "toc_position": {},
   "toc_section_display": true,
   "toc_window_display": false
  }
 },
 "nbformat": 4,
 "nbformat_minor": 1
}
